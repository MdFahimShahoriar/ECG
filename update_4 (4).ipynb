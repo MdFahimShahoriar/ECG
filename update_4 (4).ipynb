{
  "cells": [
    {
      "cell_type": "code",
      "execution_count": null,
      "id": "59cf3af9",
      "metadata": {
        "execution": {
          "iopub.execute_input": "2022-09-08T13:13:22.407098Z",
          "iopub.status.busy": "2022-09-08T13:13:22.406354Z",
          "iopub.status.idle": "2022-09-08T13:13:23.590780Z",
          "shell.execute_reply": "2022-09-08T13:13:23.589877Z",
          "shell.execute_reply.started": "2022-09-08T12:17:43.151889Z"
        },
        "id": "59cf3af9",
        "papermill": {
          "duration": 1.301828,
          "end_time": "2022-09-08T13:13:23.590995",
          "exception": false,
          "start_time": "2022-09-08T13:13:22.289167",
          "status": "completed"
        },
        "tags": []
      },
      "outputs": [],
      "source": [
        "import pandas as pd\n",
        "import numpy as np\n",
        "import matplotlib.pyplot as plt\n",
        "import seaborn as sb\n",
        "%matplotlib inline "
      ]
    },
    {
      "cell_type": "code",
      "execution_count": null,
      "id": "c0369cd2",
      "metadata": {
        "execution": {
          "iopub.execute_input": "2022-09-08T13:13:23.805425Z",
          "iopub.status.busy": "2022-09-08T13:13:23.804469Z",
          "iopub.status.idle": "2022-09-08T13:13:23.814516Z",
          "shell.execute_reply": "2022-09-08T13:13:23.815038Z",
          "shell.execute_reply.started": "2022-09-08T12:17:44.331046Z"
        },
        "papermill": {
          "duration": 0.116905,
          "end_time": "2022-09-08T13:13:23.815214",
          "exception": false,
          "start_time": "2022-09-08T13:13:23.698309",
          "status": "completed"
        },
        "tags": [],
        "id": "c0369cd2"
      },
      "outputs": [],
      "source": [
        "import os\n",
        "for dirname, _, filenames in os.walk('/kaggle/input'):\n",
        "    for filename in filenames:\n",
        "        print(os.path.join(dirname, filename))\n"
      ]
    },
    {
      "cell_type": "code",
      "execution_count": null,
      "id": "5d8e93c0",
      "metadata": {
        "execution": {
          "iopub.execute_input": "2022-09-08T13:13:24.232553Z",
          "iopub.status.busy": "2022-09-08T13:13:24.231644Z",
          "iopub.status.idle": "2022-09-08T13:13:31.622907Z",
          "shell.execute_reply": "2022-09-08T13:13:31.622245Z",
          "shell.execute_reply.started": "2022-09-08T12:17:44.344107Z"
        },
        "id": "5d8e93c0",
        "papermill": {
          "duration": 7.495793,
          "end_time": "2022-09-08T13:13:31.623069",
          "exception": false,
          "start_time": "2022-09-08T13:13:24.127276",
          "status": "completed"
        },
        "tags": []
      },
      "outputs": [],
      "source": [
        "train_data = pd.read_csv('/input/heartbeat/mitbih_train.csv',header = None)"
      ]
    },
    {
      "cell_type": "code",
      "execution_count": null,
      "id": "e0eed1cd",
      "metadata": {
        "execution": {
          "iopub.execute_input": "2022-09-08T13:13:31.858221Z",
          "iopub.status.busy": "2022-09-08T13:13:31.857457Z",
          "iopub.status.idle": "2022-09-08T13:13:36.058192Z",
          "shell.execute_reply": "2022-09-08T13:13:36.057585Z",
          "shell.execute_reply.started": "2022-09-08T12:17:52.123322Z"
        },
        "id": "e0eed1cd",
        "papermill": {
          "duration": 4.326843,
          "end_time": "2022-09-08T13:13:36.058359",
          "exception": false,
          "start_time": "2022-09-08T13:13:31.731516",
          "status": "completed"
        },
        "tags": []
      },
      "outputs": [],
      "source": [
        "test_data = pd.read_csv('/input/heartbeat/mitbih_train.csv', header = None) "
      ]
    },
    {
      "cell_type": "code",
      "execution_count": null,
      "id": "da657dbc",
      "metadata": {
        "execution": {
          "iopub.execute_input": "2022-09-08T13:13:36.269535Z",
          "iopub.status.busy": "2022-09-08T13:13:36.268753Z",
          "iopub.status.idle": "2022-09-08T13:13:36.284739Z",
          "shell.execute_reply": "2022-09-08T13:13:36.285428Z",
          "shell.execute_reply.started": "2022-09-08T12:17:56.447783Z"
        },
        "id": "da657dbc",
        "papermill": {
          "duration": 0.124448,
          "end_time": "2022-09-08T13:13:36.285618",
          "exception": false,
          "start_time": "2022-09-08T13:13:36.161170",
          "status": "completed"
        },
        "tags": []
      },
      "outputs": [],
      "source": [
        "train_target = train_data[187].value_counts()"
      ]
    },
    {
      "cell_type": "code",
      "execution_count": null,
      "id": "6d55e9b9",
      "metadata": {
        "execution": {
          "iopub.execute_input": "2022-09-08T13:13:36.496368Z",
          "iopub.status.busy": "2022-09-08T13:13:36.495658Z",
          "iopub.status.idle": "2022-09-08T13:13:36.506149Z",
          "shell.execute_reply": "2022-09-08T13:13:36.505597Z",
          "shell.execute_reply.started": "2022-09-08T12:17:56.468777Z"
        },
        "id": "6d55e9b9",
        "papermill": {
          "duration": 0.114741,
          "end_time": "2022-09-08T13:13:36.506300",
          "exception": false,
          "start_time": "2022-09-08T13:13:36.391559",
          "status": "completed"
        },
        "tags": [],
        "outputId": "e1c1489d-63e0-4a0a-f620-8d59654f4420"
      },
      "outputs": [
        {
          "data": {
            "text/plain": [
              "0.0    72471\n",
              "4.0     6431\n",
              "2.0     5788\n",
              "1.0     2223\n",
              "3.0      641\n",
              "Name: 187, dtype: int64"
            ]
          },
          "execution_count": 6,
          "metadata": {},
          "output_type": "execute_result"
        }
      ],
      "source": [
        "train_target"
      ]
    },
    {
      "cell_type": "code",
      "execution_count": null,
      "id": "3b771012",
      "metadata": {
        "execution": {
          "iopub.execute_input": "2022-09-08T13:13:36.721848Z",
          "iopub.status.busy": "2022-09-08T13:13:36.721148Z",
          "iopub.status.idle": "2022-09-08T13:13:36.906401Z",
          "shell.execute_reply": "2022-09-08T13:13:36.905592Z",
          "shell.execute_reply.started": "2022-09-08T12:17:56.487048Z"
        },
        "id": "3b771012",
        "papermill": {
          "duration": 0.297617,
          "end_time": "2022-09-08T13:13:36.906560",
          "exception": false,
          "start_time": "2022-09-08T13:13:36.608943",
          "status": "completed"
        },
        "tags": [],
        "outputId": "04d1d396-76a8-4af1-f0d0-701cb5397477"
      },
      "outputs": [
        {
          "data": {
            "image/png": "[encoded data removed]",
            "text/plain": [
              "<Figure size 432x288 with 1 Axes>"
            ]
          },
          "metadata": {
            "needs_background": "light"
          },
          "output_type": "display_data"
        }
      ],
      "source": [
        "plt.bar(train_target.index,train_target.values, color = sb.color_palette()[4]);"
      ]
    },
    {
      "cell_type": "code",
      "execution_count": null,
      "id": "87a89e20",
      "metadata": {
        "execution": {
          "iopub.execute_input": "2022-09-08T13:13:37.119671Z",
          "iopub.status.busy": "2022-09-08T13:13:37.118885Z",
          "iopub.status.idle": "2022-09-08T13:13:37.130682Z",
          "shell.execute_reply": "2022-09-08T13:13:37.131428Z",
          "shell.execute_reply.started": "2022-09-08T12:17:56.729904Z"
        },
        "id": "87a89e20",
        "papermill": {
          "duration": 0.120711,
          "end_time": "2022-09-08T13:13:37.131642",
          "exception": false,
          "start_time": "2022-09-08T13:13:37.010931",
          "status": "completed"
        },
        "tags": []
      },
      "outputs": [],
      "source": [
        "np.random.seed(2018)\n",
        "sample = np.random.choice(train_data.shape[0], 200, replace = False)\n",
        "subset = train_data.loc[sample]"
      ]
    },
    {
      "cell_type": "code",
      "execution_count": null,
      "id": "b68bfe61",
      "metadata": {
        "execution": {
          "iopub.execute_input": "2022-09-08T13:13:37.553421Z",
          "iopub.status.busy": "2022-09-08T13:13:37.552714Z",
          "iopub.status.idle": "2022-09-08T13:13:37.587162Z",
          "shell.execute_reply": "2022-09-08T13:13:37.587742Z",
          "shell.execute_reply.started": "2022-09-08T12:17:56.744104Z"
        },
        "id": "b68bfe61",
        "papermill": {
          "duration": 0.141559,
          "end_time": "2022-09-08T13:13:37.587948",
          "exception": false,
          "start_time": "2022-09-08T13:13:37.446389",
          "status": "completed"
        },
        "tags": [],
        "outputId": "85af7a20-74cc-420e-c16b-9bf0bcbea80a"
      },
      "outputs": [
        {
          "data": {
            "text/html": [
              "<div>\n",
              "<style scoped>\n",
              "    .dataframe tbody tr th:only-of-type {\n",
              "        vertical-align: middle;\n",
              "    }\n",
              "\n",
              "    .dataframe tbody tr th {\n",
              "        vertical-align: top;\n",
              "    }\n",
              "\n",
              "    .dataframe thead th {\n",
              "        text-align: right;\n",
              "    }\n",
              "</style>\n",
              "<table border=\"1\" class=\"dataframe\">\n",
              "  <thead>\n",
              "    <tr style=\"text-align: right;\">\n",
              "      <th></th>\n",
              "      <th>0</th>\n",
              "      <th>1</th>\n",
              "      <th>2</th>\n",
              "      <th>3</th>\n",
              "      <th>4</th>\n",
              "      <th>5</th>\n",
              "      <th>6</th>\n",
              "      <th>7</th>\n",
              "      <th>8</th>\n",
              "      <th>9</th>\n",
              "      <th>...</th>\n",
              "      <th>178</th>\n",
              "      <th>179</th>\n",
              "      <th>180</th>\n",
              "      <th>181</th>\n",
              "      <th>182</th>\n",
              "      <th>183</th>\n",
              "      <th>184</th>\n",
              "      <th>185</th>\n",
              "      <th>186</th>\n",
              "      <th>187</th>\n",
              "    </tr>\n",
              "  </thead>\n",
              "  <tbody>\n",
              "    <tr>\n",
              "      <th>64457</th>\n",
              "      <td>0.962963</td>\n",
              "      <td>0.811966</td>\n",
              "      <td>0.279202</td>\n",
              "      <td>0.025641</td>\n",
              "      <td>0.074074</td>\n",
              "      <td>0.085470</td>\n",
              "      <td>0.022792</td>\n",
              "      <td>0.005698</td>\n",
              "      <td>0.025641</td>\n",
              "      <td>0.022792</td>\n",
              "      <td>...</td>\n",
              "      <td>0.000000</td>\n",
              "      <td>0.000000</td>\n",
              "      <td>0.000000</td>\n",
              "      <td>0.000000</td>\n",
              "      <td>0.000000</td>\n",
              "      <td>0.000000</td>\n",
              "      <td>0.000000</td>\n",
              "      <td>0.000000</td>\n",
              "      <td>0.000000</td>\n",
              "      <td>0.0</td>\n",
              "    </tr>\n",
              "    <tr>\n",
              "      <th>36271</th>\n",
              "      <td>0.979487</td>\n",
              "      <td>0.561538</td>\n",
              "      <td>0.353846</td>\n",
              "      <td>0.233333</td>\n",
              "      <td>0.135897</td>\n",
              "      <td>0.074359</td>\n",
              "      <td>0.033333</td>\n",
              "      <td>0.023077</td>\n",
              "      <td>0.017949</td>\n",
              "      <td>0.017949</td>\n",
              "      <td>...</td>\n",
              "      <td>0.000000</td>\n",
              "      <td>0.000000</td>\n",
              "      <td>0.000000</td>\n",
              "      <td>0.000000</td>\n",
              "      <td>0.000000</td>\n",
              "      <td>0.000000</td>\n",
              "      <td>0.000000</td>\n",
              "      <td>0.000000</td>\n",
              "      <td>0.000000</td>\n",
              "      <td>0.0</td>\n",
              "    </tr>\n",
              "    <tr>\n",
              "      <th>27479</th>\n",
              "      <td>0.960000</td>\n",
              "      <td>0.792000</td>\n",
              "      <td>0.468000</td>\n",
              "      <td>0.060000</td>\n",
              "      <td>0.000000</td>\n",
              "      <td>0.152000</td>\n",
              "      <td>0.196000</td>\n",
              "      <td>0.236000</td>\n",
              "      <td>0.256000</td>\n",
              "      <td>0.268000</td>\n",
              "      <td>...</td>\n",
              "      <td>0.000000</td>\n",
              "      <td>0.000000</td>\n",
              "      <td>0.000000</td>\n",
              "      <td>0.000000</td>\n",
              "      <td>0.000000</td>\n",
              "      <td>0.000000</td>\n",
              "      <td>0.000000</td>\n",
              "      <td>0.000000</td>\n",
              "      <td>0.000000</td>\n",
              "      <td>0.0</td>\n",
              "    </tr>\n",
              "    <tr>\n",
              "      <th>26599</th>\n",
              "      <td>0.988920</td>\n",
              "      <td>0.858726</td>\n",
              "      <td>0.412742</td>\n",
              "      <td>0.000000</td>\n",
              "      <td>0.199446</td>\n",
              "      <td>0.304709</td>\n",
              "      <td>0.373961</td>\n",
              "      <td>0.409972</td>\n",
              "      <td>0.423823</td>\n",
              "      <td>0.385042</td>\n",
              "      <td>...</td>\n",
              "      <td>0.000000</td>\n",
              "      <td>0.000000</td>\n",
              "      <td>0.000000</td>\n",
              "      <td>0.000000</td>\n",
              "      <td>0.000000</td>\n",
              "      <td>0.000000</td>\n",
              "      <td>0.000000</td>\n",
              "      <td>0.000000</td>\n",
              "      <td>0.000000</td>\n",
              "      <td>0.0</td>\n",
              "    </tr>\n",
              "    <tr>\n",
              "      <th>13752</th>\n",
              "      <td>1.000000</td>\n",
              "      <td>0.624060</td>\n",
              "      <td>0.067669</td>\n",
              "      <td>0.112782</td>\n",
              "      <td>0.187970</td>\n",
              "      <td>0.142857</td>\n",
              "      <td>0.131579</td>\n",
              "      <td>0.090226</td>\n",
              "      <td>0.056391</td>\n",
              "      <td>0.071429</td>\n",
              "      <td>...</td>\n",
              "      <td>0.000000</td>\n",
              "      <td>0.000000</td>\n",
              "      <td>0.000000</td>\n",
              "      <td>0.000000</td>\n",
              "      <td>0.000000</td>\n",
              "      <td>0.000000</td>\n",
              "      <td>0.000000</td>\n",
              "      <td>0.000000</td>\n",
              "      <td>0.000000</td>\n",
              "      <td>0.0</td>\n",
              "    </tr>\n",
              "    <tr>\n",
              "      <th>...</th>\n",
              "      <td>...</td>\n",
              "      <td>...</td>\n",
              "      <td>...</td>\n",
              "      <td>...</td>\n",
              "      <td>...</td>\n",
              "      <td>...</td>\n",
              "      <td>...</td>\n",
              "      <td>...</td>\n",
              "      <td>...</td>\n",
              "      <td>...</td>\n",
              "      <td>...</td>\n",
              "      <td>...</td>\n",
              "      <td>...</td>\n",
              "      <td>...</td>\n",
              "      <td>...</td>\n",
              "      <td>...</td>\n",
              "      <td>...</td>\n",
              "      <td>...</td>\n",
              "      <td>...</td>\n",
              "      <td>...</td>\n",
              "      <td>...</td>\n",
              "    </tr>\n",
              "    <tr>\n",
              "      <th>77146</th>\n",
              "      <td>0.412451</td>\n",
              "      <td>0.396887</td>\n",
              "      <td>0.289235</td>\n",
              "      <td>0.130999</td>\n",
              "      <td>0.154345</td>\n",
              "      <td>0.178988</td>\n",
              "      <td>0.097276</td>\n",
              "      <td>0.035019</td>\n",
              "      <td>0.020752</td>\n",
              "      <td>0.000000</td>\n",
              "      <td>...</td>\n",
              "      <td>0.884565</td>\n",
              "      <td>0.684825</td>\n",
              "      <td>0.503243</td>\n",
              "      <td>0.343709</td>\n",
              "      <td>0.300908</td>\n",
              "      <td>0.313878</td>\n",
              "      <td>0.338521</td>\n",
              "      <td>0.352789</td>\n",
              "      <td>0.351492</td>\n",
              "      <td>2.0</td>\n",
              "    </tr>\n",
              "    <tr>\n",
              "      <th>26244</th>\n",
              "      <td>0.969091</td>\n",
              "      <td>0.863636</td>\n",
              "      <td>0.627273</td>\n",
              "      <td>0.356364</td>\n",
              "      <td>0.121818</td>\n",
              "      <td>0.034545</td>\n",
              "      <td>0.040000</td>\n",
              "      <td>0.061818</td>\n",
              "      <td>0.080000</td>\n",
              "      <td>0.089091</td>\n",
              "      <td>...</td>\n",
              "      <td>0.000000</td>\n",
              "      <td>0.000000</td>\n",
              "      <td>0.000000</td>\n",
              "      <td>0.000000</td>\n",
              "      <td>0.000000</td>\n",
              "      <td>0.000000</td>\n",
              "      <td>0.000000</td>\n",
              "      <td>0.000000</td>\n",
              "      <td>0.000000</td>\n",
              "      <td>0.0</td>\n",
              "    </tr>\n",
              "    <tr>\n",
              "      <th>12805</th>\n",
              "      <td>1.000000</td>\n",
              "      <td>0.976190</td>\n",
              "      <td>0.608844</td>\n",
              "      <td>0.000000</td>\n",
              "      <td>0.017007</td>\n",
              "      <td>0.085034</td>\n",
              "      <td>0.112245</td>\n",
              "      <td>0.098639</td>\n",
              "      <td>0.125850</td>\n",
              "      <td>0.115646</td>\n",
              "      <td>...</td>\n",
              "      <td>0.000000</td>\n",
              "      <td>0.000000</td>\n",
              "      <td>0.000000</td>\n",
              "      <td>0.000000</td>\n",
              "      <td>0.000000</td>\n",
              "      <td>0.000000</td>\n",
              "      <td>0.000000</td>\n",
              "      <td>0.000000</td>\n",
              "      <td>0.000000</td>\n",
              "      <td>0.0</td>\n",
              "    </tr>\n",
              "    <tr>\n",
              "      <th>37083</th>\n",
              "      <td>1.000000</td>\n",
              "      <td>0.779070</td>\n",
              "      <td>0.209302</td>\n",
              "      <td>0.050388</td>\n",
              "      <td>0.065891</td>\n",
              "      <td>0.093023</td>\n",
              "      <td>0.077519</td>\n",
              "      <td>0.124031</td>\n",
              "      <td>0.174419</td>\n",
              "      <td>0.131783</td>\n",
              "      <td>...</td>\n",
              "      <td>0.217054</td>\n",
              "      <td>0.000000</td>\n",
              "      <td>0.000000</td>\n",
              "      <td>0.000000</td>\n",
              "      <td>0.000000</td>\n",
              "      <td>0.000000</td>\n",
              "      <td>0.000000</td>\n",
              "      <td>0.000000</td>\n",
              "      <td>0.000000</td>\n",
              "      <td>0.0</td>\n",
              "    </tr>\n",
              "    <tr>\n",
              "      <th>74004</th>\n",
              "      <td>0.894309</td>\n",
              "      <td>0.349593</td>\n",
              "      <td>0.276423</td>\n",
              "      <td>0.195122</td>\n",
              "      <td>0.138211</td>\n",
              "      <td>0.113821</td>\n",
              "      <td>0.121951</td>\n",
              "      <td>0.113821</td>\n",
              "      <td>0.126016</td>\n",
              "      <td>0.105691</td>\n",
              "      <td>...</td>\n",
              "      <td>0.000000</td>\n",
              "      <td>0.000000</td>\n",
              "      <td>0.000000</td>\n",
              "      <td>0.000000</td>\n",
              "      <td>0.000000</td>\n",
              "      <td>0.000000</td>\n",
              "      <td>0.000000</td>\n",
              "      <td>0.000000</td>\n",
              "      <td>0.000000</td>\n",
              "      <td>1.0</td>\n",
              "    </tr>\n",
              "  </tbody>\n",
              "</table>\n",
              "<p>200 rows × 188 columns</p>\n",
              "</div>"
            ],
            "text/plain": [
              "            0         1         2         3         4         5         6    \\\n",
              "64457  0.962963  0.811966  0.279202  0.025641  0.074074  0.085470  0.022792   \n",
              "36271  0.979487  0.561538  0.353846  0.233333  0.135897  0.074359  0.033333   \n",
              "27479  0.960000  0.792000  0.468000  0.060000  0.000000  0.152000  0.196000   \n",
              "26599  0.988920  0.858726  0.412742  0.000000  0.199446  0.304709  0.373961   \n",
              "13752  1.000000  0.624060  0.067669  0.112782  0.187970  0.142857  0.131579   \n",
              "...         ...       ...       ...       ...       ...       ...       ...   \n",
              "77146  0.412451  0.396887  0.289235  0.130999  0.154345  0.178988  0.097276   \n",
              "26244  0.969091  0.863636  0.627273  0.356364  0.121818  0.034545  0.040000   \n",
              "12805  1.000000  0.976190  0.608844  0.000000  0.017007  0.085034  0.112245   \n",
              "37083  1.000000  0.779070  0.209302  0.050388  0.065891  0.093023  0.077519   \n",
              "74004  0.894309  0.349593  0.276423  0.195122  0.138211  0.113821  0.121951   \n",
              "\n",
              "            7         8         9    ...       178       179       180  \\\n",
              "64457  0.005698  0.025641  0.022792  ...  0.000000  0.000000  0.000000   \n",
              "36271  0.023077  0.017949  0.017949  ...  0.000000  0.000000  0.000000   \n",
              "27479  0.236000  0.256000  0.268000  ...  0.000000  0.000000  0.000000   \n",
              "26599  0.409972  0.423823  0.385042  ...  0.000000  0.000000  0.000000   \n",
              "13752  0.090226  0.056391  0.071429  ...  0.000000  0.000000  0.000000   \n",
              "...         ...       ...       ...  ...       ...       ...       ...   \n",
              "77146  0.035019  0.020752  0.000000  ...  0.884565  0.684825  0.503243   \n",
              "26244  0.061818  0.080000  0.089091  ...  0.000000  0.000000  0.000000   \n",
              "12805  0.098639  0.125850  0.115646  ...  0.000000  0.000000  0.000000   \n",
              "37083  0.124031  0.174419  0.131783  ...  0.217054  0.000000  0.000000   \n",
              "74004  0.113821  0.126016  0.105691  ...  0.000000  0.000000  0.000000   \n",
              "\n",
              "            181       182       183       184       185       186  187  \n",
              "64457  0.000000  0.000000  0.000000  0.000000  0.000000  0.000000  0.0  \n",
              "36271  0.000000  0.000000  0.000000  0.000000  0.000000  0.000000  0.0  \n",
              "27479  0.000000  0.000000  0.000000  0.000000  0.000000  0.000000  0.0  \n",
              "26599  0.000000  0.000000  0.000000  0.000000  0.000000  0.000000  0.0  \n",
              "13752  0.000000  0.000000  0.000000  0.000000  0.000000  0.000000  0.0  \n",
              "...         ...       ...       ...       ...       ...       ...  ...  \n",
              "77146  0.343709  0.300908  0.313878  0.338521  0.352789  0.351492  2.0  \n",
              "26244  0.000000  0.000000  0.000000  0.000000  0.000000  0.000000  0.0  \n",
              "12805  0.000000  0.000000  0.000000  0.000000  0.000000  0.000000  0.0  \n",
              "37083  0.000000  0.000000  0.000000  0.000000  0.000000  0.000000  0.0  \n",
              "74004  0.000000  0.000000  0.000000  0.000000  0.000000  0.000000  1.0  \n",
              "\n",
              "[200 rows x 188 columns]"
            ]
          },
          "execution_count": 9,
          "metadata": {},
          "output_type": "execute_result"
        }
      ],
      "source": [
        "subset"
      ]
    },
    {
      "cell_type": "code",
      "execution_count": null,
      "id": "17ded59c",
      "metadata": {
        "execution": {
          "iopub.execute_input": "2022-09-08T13:13:37.800779Z",
          "iopub.status.busy": "2022-09-08T13:13:37.800114Z",
          "iopub.status.idle": "2022-09-08T13:13:37.807119Z",
          "shell.execute_reply": "2022-09-08T13:13:37.807663Z",
          "shell.execute_reply.started": "2022-09-08T12:17:56.785155Z"
        },
        "id": "17ded59c",
        "papermill": {
          "duration": 0.114504,
          "end_time": "2022-09-08T13:13:37.807836",
          "exception": false,
          "start_time": "2022-09-08T13:13:37.693332",
          "status": "completed"
        },
        "tags": [],
        "outputId": "a8e73fda-dfb3-4dad-d65a-331453c75f9c"
      },
      "outputs": [
        {
          "data": {
            "text/plain": [
              "79.5"
            ]
          },
          "execution_count": 10,
          "metadata": {},
          "output_type": "execute_result"
        }
      ],
      "source": [
        "percentages = [count / subset.shape[0] * 100 for count in subset[187].value_counts()]\n",
        "percentages[0]"
      ]
    },
    {
      "cell_type": "code",
      "execution_count": null,
      "id": "e1ef9928",
      "metadata": {
        "execution": {
          "iopub.execute_input": "2022-09-08T13:13:38.022594Z",
          "iopub.status.busy": "2022-09-08T13:13:38.021875Z",
          "iopub.status.idle": "2022-09-08T13:13:38.028923Z",
          "shell.execute_reply": "2022-09-08T13:13:38.029486Z",
          "shell.execute_reply.started": "2022-09-08T12:17:56.794860Z"
        },
        "id": "e1ef9928",
        "papermill": {
          "duration": 0.117004,
          "end_time": "2022-09-08T13:13:38.029668",
          "exception": false,
          "start_time": "2022-09-08T13:13:37.912664",
          "status": "completed"
        },
        "tags": [],
        "outputId": "534b0753-b75b-49c2-97e9-6924998da236"
      },
      "outputs": [
        {
          "name": "stdout",
          "output_type": "stream",
          "text": [
            "the precent of 0 is : 79.5 %\n",
            "the precent of 4 is : 10.5 %\n",
            "the precent of 2 is : 5.5 %\n",
            "the precent of 1 is : 4.0 %\n",
            "the precent of 3 is : 0.5 %\n"
          ]
        }
      ],
      "source": [
        "for i in np.arange(len(percentages)):\n",
        "    print(f'the precent of {int(train_target.index[i])} is : {np.round(percentages[i], 2) } %')"
      ]
    },
    {
      "cell_type": "code",
      "execution_count": null,
      "id": "6ba9301b",
      "metadata": {
        "execution": {
          "iopub.execute_input": "2022-09-08T13:13:38.246305Z",
          "iopub.status.busy": "2022-09-08T13:13:38.245609Z",
          "iopub.status.idle": "2022-09-08T13:13:38.410420Z",
          "shell.execute_reply": "2022-09-08T13:13:38.410968Z",
          "shell.execute_reply.started": "2022-09-08T12:17:56.807080Z"
        },
        "id": "6ba9301b",
        "papermill": {
          "duration": 0.273789,
          "end_time": "2022-09-08T13:13:38.411172",
          "exception": false,
          "start_time": "2022-09-08T13:13:38.137383",
          "status": "completed"
        },
        "tags": [],
        "outputId": "d31ee2f8-b1e9-4a8d-f7ca-d71bdfcd5a65"
      },
      "outputs": [
        {
          "data": {
            "image/png": "[encoded data removed]",
            "text/plain": [
              "<Figure size 432x288 with 1 Axes>"
            ]
          },
          "metadata": {
            "needs_background": "light"
          },
          "output_type": "display_data"
        }
      ],
      "source": [
        "base_color = sb.color_palette()[0]\n",
        "type_orderion = subset[187].value_counts().index\n",
        "sb.countplot(data = subset, y = 187, color = base_color, order = type_orderion );\n",
        "plt.xticks(rotation = 90);"
      ]
    },
    {
      "cell_type": "code",
      "execution_count": null,
      "id": "8a992813",
      "metadata": {
        "execution": {
          "iopub.execute_input": "2022-09-08T13:13:38.840637Z",
          "iopub.status.busy": "2022-09-08T13:13:38.839626Z",
          "iopub.status.idle": "2022-09-08T13:13:39.237843Z",
          "shell.execute_reply": "2022-09-08T13:13:39.237065Z",
          "shell.execute_reply.started": "2022-09-08T12:17:57.025794Z"
        },
        "id": "8a992813",
        "papermill": {
          "duration": 0.507488,
          "end_time": "2022-09-08T13:13:39.238015",
          "exception": false,
          "start_time": "2022-09-08T13:13:38.730527",
          "status": "completed"
        },
        "tags": []
      },
      "outputs": [],
      "source": [
        "from sklearn.utils import resample\n",
        "target1=train_data[train_data[187]==1]\n",
        "target2=train_data[train_data[187]==2]\n",
        "target3=train_data[train_data[187]==3]\n",
        "target4=train_data[train_data[187]==4]\n",
        "target0=(train_data[train_data[187]==0]).sample(n=20000,random_state=42)\n",
        "\n",
        "target1_sample=resample(target1,replace=True,n_samples=20000,random_state=0)\n",
        "target2_sample=resample(target2,replace=True,n_samples=20000,random_state=0)\n",
        "target3_sample=resample(target3,replace=True,n_samples=20000,random_state=0)\n",
        "target4_sample=resample(target4,replace=True,n_samples=20000,random_state=0)\n",
        "\n",
        "train_data=pd.concat([target0,target1_sample,target2_sample,target3_sample,target4_sample])\n"
      ]
    },
    {
      "cell_type": "code",
      "execution_count": null,
      "id": "40293f7a",
      "metadata": {
        "execution": {
          "iopub.execute_input": "2022-09-08T13:13:39.459996Z",
          "iopub.status.busy": "2022-09-08T13:13:39.458757Z",
          "iopub.status.idle": "2022-09-08T13:13:39.463880Z",
          "shell.execute_reply": "2022-09-08T13:13:39.464586Z",
          "shell.execute_reply.started": "2022-09-08T12:17:57.418589Z"
        },
        "id": "40293f7a",
        "papermill": {
          "duration": 0.119958,
          "end_time": "2022-09-08T13:13:39.464789",
          "exception": false,
          "start_time": "2022-09-08T13:13:39.344831",
          "status": "completed"
        },
        "tags": []
      },
      "outputs": [],
      "source": [
        "train_target = train_data[187].value_counts()"
      ]
    },
    {
      "cell_type": "code",
      "execution_count": null,
      "id": "1bb8a861",
      "metadata": {
        "execution": {
          "iopub.execute_input": "2022-09-08T13:13:39.682181Z",
          "iopub.status.busy": "2022-09-08T13:13:39.681482Z",
          "iopub.status.idle": "2022-09-08T13:13:39.687555Z",
          "shell.execute_reply": "2022-09-08T13:13:39.688124Z",
          "shell.execute_reply.started": "2022-09-08T12:17:57.429592Z"
        },
        "id": "1bb8a861",
        "papermill": {
          "duration": 0.116278,
          "end_time": "2022-09-08T13:13:39.688315",
          "exception": false,
          "start_time": "2022-09-08T13:13:39.572037",
          "status": "completed"
        },
        "tags": [],
        "outputId": "6791f2fb-62a5-4761-b27f-ea146d54a104"
      },
      "outputs": [
        {
          "data": {
            "text/plain": [
              "0.0    20000\n",
              "1.0    20000\n",
              "2.0    20000\n",
              "3.0    20000\n",
              "4.0    20000\n",
              "Name: 187, dtype: int64"
            ]
          },
          "execution_count": 15,
          "metadata": {},
          "output_type": "execute_result"
        }
      ],
      "source": [
        "train_target"
      ]
    },
    {
      "cell_type": "code",
      "execution_count": null,
      "id": "6b39bc02",
      "metadata": {
        "execution": {
          "iopub.execute_input": "2022-09-08T13:13:39.905399Z",
          "iopub.status.busy": "2022-09-08T13:13:39.904611Z",
          "iopub.status.idle": "2022-09-08T13:13:40.067099Z",
          "shell.execute_reply": "2022-09-08T13:13:40.066212Z",
          "shell.execute_reply.started": "2022-09-08T12:17:57.442050Z"
        },
        "id": "6b39bc02",
        "papermill": {
          "duration": 0.271727,
          "end_time": "2022-09-08T13:13:40.067263",
          "exception": false,
          "start_time": "2022-09-08T13:13:39.795536",
          "status": "completed"
        },
        "tags": [],
        "outputId": "e61ee03a-fdc2-4c4c-886e-df98283a4426"
      },
      "outputs": [
        {
          "data": {
            "image/png": "[encoded data removed]",
            "text/plain": [
              "<Figure size 432x288 with 1 Axes>"
            ]
          },
          "metadata": {
            "needs_background": "light"
          },
          "output_type": "display_data"
        }
      ],
      "source": [
        "plt.bar(train_target.index,train_target.values, color = 'green');"
      ]
    },
    {
      "cell_type": "code",
      "execution_count": null,
      "id": "fad6bcab",
      "metadata": {
        "execution": {
          "iopub.execute_input": "2022-09-08T13:13:40.537425Z",
          "iopub.status.busy": "2022-09-08T13:13:40.523513Z",
          "iopub.status.idle": "2022-09-08T13:13:40.622491Z",
          "shell.execute_reply": "2022-09-08T13:13:40.623483Z",
          "shell.execute_reply.started": "2022-09-08T12:17:57.653550Z"
        },
        "id": "fad6bcab",
        "papermill": {
          "duration": 0.232014,
          "end_time": "2022-09-08T13:13:40.623768",
          "exception": false,
          "start_time": "2022-09-08T13:13:40.391754",
          "status": "completed"
        },
        "tags": [],
        "outputId": "64785ba1-b359-4142-ffbe-aabfccbe54c9"
      },
      "outputs": [
        {
          "data": {
            "image/png": "[encoded data removed]",
            "text/plain": [
              "<Figure size 864x360.72 with 1 Axes>"
            ]
          },
          "metadata": {},
          "output_type": "display_data"
        }
      ],
      "source": [
        "sorted_counts = train_data[187].value_counts();\n",
        "plt.figure(figsize = [12,5.01])\n",
        "plt.pie(sorted_counts, labels = sorted_counts.index, startangle = 90,\n",
        "        counterclock = False);\n",
        "plt.axis('square');"
      ]
    },
    {
      "cell_type": "code",
      "execution_count": null,
      "id": "e6f33eb2",
      "metadata": {
        "execution": {
          "iopub.execute_input": "2022-09-08T13:13:41.303847Z",
          "iopub.status.busy": "2022-09-08T13:13:41.303190Z",
          "iopub.status.idle": "2022-09-08T13:13:41.309542Z",
          "shell.execute_reply": "2022-09-08T13:13:41.308855Z",
          "shell.execute_reply.started": "2022-09-08T12:17:57.787379Z"
        },
        "id": "e6f33eb2",
        "papermill": {
          "duration": 0.115927,
          "end_time": "2022-09-08T13:13:41.309692",
          "exception": false,
          "start_time": "2022-09-08T13:13:41.193765",
          "status": "completed"
        },
        "tags": []
      },
      "outputs": [],
      "source": [
        "test_target = test_data[187].value_counts()"
      ]
    },
    {
      "cell_type": "code",
      "execution_count": null,
      "id": "79624c93",
      "metadata": {
        "execution": {
          "iopub.execute_input": "2022-09-08T13:13:41.530813Z",
          "iopub.status.busy": "2022-09-08T13:13:41.530111Z",
          "iopub.status.idle": "2022-09-08T13:13:41.534573Z",
          "shell.execute_reply": "2022-09-08T13:13:41.534064Z",
          "shell.execute_reply.started": "2022-09-08T12:17:57.798391Z"
        },
        "id": "79624c93",
        "papermill": {
          "duration": 0.118134,
          "end_time": "2022-09-08T13:13:41.534723",
          "exception": false,
          "start_time": "2022-09-08T13:13:41.416589",
          "status": "completed"
        },
        "tags": [],
        "outputId": "2034ea69-b78d-4156-c999-9579be043483"
      },
      "outputs": [
        {
          "data": {
            "text/plain": [
              "0.0    72471\n",
              "4.0     6431\n",
              "2.0     5788\n",
              "1.0     2223\n",
              "3.0      641\n",
              "Name: 187, dtype: int64"
            ]
          },
          "execution_count": 19,
          "metadata": {},
          "output_type": "execute_result"
        }
      ],
      "source": [
        "test_target"
      ]
    },
    {
      "cell_type": "code",
      "execution_count": null,
      "id": "60c2d612",
      "metadata": {
        "execution": {
          "iopub.execute_input": "2022-09-08T13:13:41.775673Z",
          "iopub.status.busy": "2022-09-08T13:13:41.774588Z",
          "iopub.status.idle": "2022-09-08T13:13:41.960532Z",
          "shell.execute_reply": "2022-09-08T13:13:41.959973Z",
          "shell.execute_reply.started": "2022-09-08T12:17:57.810709Z"
        },
        "id": "60c2d612",
        "papermill": {
          "duration": 0.316234,
          "end_time": "2022-09-08T13:13:41.960688",
          "exception": false,
          "start_time": "2022-09-08T13:13:41.644454",
          "status": "completed"
        },
        "tags": [],
        "outputId": "ce792807-b7f7-4567-a916-c61c20afe8f1"
      },
      "outputs": [
        {
          "data": {
            "image/png": "[encoded data removed]",
            "text/plain": [
              "<Figure size 432x288 with 1 Axes>"
            ]
          },
          "metadata": {
            "needs_background": "light"
          },
          "output_type": "display_data"
        }
      ],
      "source": [
        "plt.bar(test_target.index,test_target.values, color = sb.color_palette()[0]);"
      ]
    },
    {
      "cell_type": "code",
      "execution_count": null,
      "id": "f29d4a93",
      "metadata": {
        "execution": {
          "iopub.execute_input": "2022-09-08T13:13:42.194294Z",
          "iopub.status.busy": "2022-09-08T13:13:42.191182Z",
          "iopub.status.idle": "2022-09-08T13:13:42.198642Z",
          "shell.execute_reply": "2022-09-08T13:13:42.199211Z",
          "shell.execute_reply.started": "2022-09-08T12:17:58.005490Z"
        },
        "id": "f29d4a93",
        "papermill": {
          "duration": 0.125401,
          "end_time": "2022-09-08T13:13:42.199397",
          "exception": false,
          "start_time": "2022-09-08T13:13:42.073996",
          "status": "completed"
        },
        "tags": []
      },
      "outputs": [],
      "source": [
        "np.random.seed(2020)\n",
        "sample2 = np.random.choice(test_data.shape[0], 200, replace = False)\n",
        "subset2 = test_data.loc[sample2]"
      ]
    },
    {
      "cell_type": "code",
      "execution_count": null,
      "id": "45c470f7",
      "metadata": {
        "execution": {
          "iopub.execute_input": "2022-09-08T13:13:42.423515Z",
          "iopub.status.busy": "2022-09-08T13:13:42.419112Z",
          "iopub.status.idle": "2022-09-08T13:13:42.426703Z",
          "shell.execute_reply": "2022-09-08T13:13:42.427335Z",
          "shell.execute_reply.started": "2022-09-08T12:17:58.020143Z"
        },
        "id": "45c470f7",
        "papermill": {
          "duration": 0.119745,
          "end_time": "2022-09-08T13:13:42.427527",
          "exception": false,
          "start_time": "2022-09-08T13:13:42.307782",
          "status": "completed"
        },
        "tags": [],
        "outputId": "946a0b43-bff8-47ee-84c3-19bdf209bfce"
      },
      "outputs": [
        {
          "data": {
            "text/plain": [
              "81.5"
            ]
          },
          "execution_count": 22,
          "metadata": {},
          "output_type": "execute_result"
        }
      ],
      "source": [
        "percentages = [count / subset2.shape[0] * 100 for count in subset2[187].value_counts()]\n",
        "percentages[0]"
      ]
    },
    {
      "cell_type": "code",
      "execution_count": null,
      "id": "7b704bbb",
      "metadata": {
        "execution": {
          "iopub.execute_input": "2022-09-08T13:13:42.655482Z",
          "iopub.status.busy": "2022-09-08T13:13:42.654333Z",
          "iopub.status.idle": "2022-09-08T13:13:42.657875Z",
          "shell.execute_reply": "2022-09-08T13:13:42.658431Z",
          "shell.execute_reply.started": "2022-09-08T12:17:58.039701Z"
        },
        "id": "7b704bbb",
        "papermill": {
          "duration": 0.119372,
          "end_time": "2022-09-08T13:13:42.658616",
          "exception": false,
          "start_time": "2022-09-08T13:13:42.539244",
          "status": "completed"
        },
        "tags": [],
        "outputId": "191afe3e-ee4a-4a16-943a-bc0c5af81973"
      },
      "outputs": [
        {
          "name": "stdout",
          "output_type": "stream",
          "text": [
            "the precent of 0 is : 81.5 %\n",
            "the precent of 1 is : 8.5 %\n",
            "the precent of 2 is : 8.0 %\n",
            "the precent of 3 is : 2.0 %\n"
          ]
        }
      ],
      "source": [
        "for i in np.arange(len(percentages)):\n",
        "    print(f'the precent of {int(test_data.index[i])} is : {np.round(percentages[i], 2) } %')"
      ]
    },
    {
      "cell_type": "code",
      "execution_count": null,
      "id": "74d59c13",
      "metadata": {
        "execution": {
          "iopub.execute_input": "2022-09-08T13:13:45.265835Z",
          "iopub.status.busy": "2022-09-08T13:13:45.265178Z",
          "iopub.status.idle": "2022-09-08T13:13:45.268548Z",
          "shell.execute_reply": "2022-09-08T13:13:45.268039Z",
          "shell.execute_reply.started": "2022-09-08T12:17:58.524802Z"
        },
        "id": "74d59c13",
        "papermill": {
          "duration": 0.119729,
          "end_time": "2022-09-08T13:13:45.268702",
          "exception": false,
          "start_time": "2022-09-08T13:13:45.148973",
          "status": "completed"
        },
        "tags": []
      },
      "outputs": [],
      "source": [
        "from scipy import stats"
      ]
    },
    {
      "cell_type": "code",
      "execution_count": null,
      "id": "344b3d27",
      "metadata": {
        "execution": {
          "iopub.execute_input": "2022-09-08T13:13:45.499059Z",
          "iopub.status.busy": "2022-09-08T13:13:45.498340Z",
          "iopub.status.idle": "2022-09-08T13:13:45.511099Z",
          "shell.execute_reply": "2022-09-08T13:13:45.512128Z",
          "shell.execute_reply.started": "2022-09-08T12:17:58.532712Z"
        },
        "id": "344b3d27",
        "papermill": {
          "duration": 0.132811,
          "end_time": "2022-09-08T13:13:45.512398",
          "exception": false,
          "start_time": "2022-09-08T13:13:45.379587",
          "status": "completed"
        },
        "tags": []
      },
      "outputs": [],
      "source": [
        "pearson_coef, p_value = stats.pearsonr(train_data[1], train_data[187])"
      ]
    },
    {
      "cell_type": "code",
      "execution_count": null,
      "id": "da00f1e8",
      "metadata": {
        "execution": {
          "iopub.execute_input": "2022-09-08T13:13:45.781346Z",
          "iopub.status.busy": "2022-09-08T13:13:45.780618Z",
          "iopub.status.idle": "2022-09-08T13:13:45.783467Z",
          "shell.execute_reply": "2022-09-08T13:13:45.783983Z",
          "shell.execute_reply.started": "2022-09-08T12:17:58.550123Z"
        },
        "id": "da00f1e8",
        "papermill": {
          "duration": 0.121198,
          "end_time": "2022-09-08T13:13:45.784169",
          "exception": false,
          "start_time": "2022-09-08T13:13:45.662971",
          "status": "completed"
        },
        "tags": []
      },
      "outputs": [],
      "source": [
        "l = [('1', 1),('2',2),('3',3)]"
      ]
    },
    {
      "cell_type": "code",
      "execution_count": null,
      "id": "4da20747",
      "metadata": {
        "execution": {
          "iopub.execute_input": "2022-09-08T13:13:46.015779Z",
          "iopub.status.busy": "2022-09-08T13:13:46.015076Z",
          "iopub.status.idle": "2022-09-08T13:13:46.017999Z",
          "shell.execute_reply": "2022-09-08T13:13:46.018697Z",
          "shell.execute_reply.started": "2022-09-08T12:17:58.559799Z"
        },
        "id": "4da20747",
        "papermill": {
          "duration": 0.120585,
          "end_time": "2022-09-08T13:13:46.019014",
          "exception": false,
          "start_time": "2022-09-08T13:13:45.898429",
          "status": "completed"
        },
        "tags": [],
        "outputId": "987203e4-78ec-4bef-d094-80490ae49431"
      },
      "outputs": [
        {
          "name": "stdout",
          "output_type": "stream",
          "text": [
            "[('1', 1), ('2', 2), ('3', 3)]\n"
          ]
        }
      ],
      "source": [
        "if max(l):\n",
        "    print(l)"
      ]
    },
    {
      "cell_type": "code",
      "execution_count": null,
      "id": "d6c3ecd3",
      "metadata": {
        "execution": {
          "iopub.execute_input": "2022-09-08T13:13:46.253945Z",
          "iopub.status.busy": "2022-09-08T13:13:46.253037Z",
          "iopub.status.idle": "2022-09-08T13:13:46.256766Z",
          "shell.execute_reply": "2022-09-08T13:13:46.256281Z",
          "shell.execute_reply.started": "2022-09-08T12:17:58.571899Z"
        },
        "id": "d6c3ecd3",
        "papermill": {
          "duration": 0.122774,
          "end_time": "2022-09-08T13:13:46.256926",
          "exception": false,
          "start_time": "2022-09-08T13:13:46.134152",
          "status": "completed"
        },
        "tags": [],
        "outputId": "3fff56a7-4f30-4dbc-b5f4-f0a9a3bab0c0"
      },
      "outputs": [
        {
          "data": {
            "text/plain": [
              "('3', 3)"
            ]
          },
          "execution_count": 33,
          "metadata": {},
          "output_type": "execute_result"
        }
      ],
      "source": [
        "max(l)"
      ]
    },
    {
      "cell_type": "code",
      "execution_count": null,
      "id": "82f0ba21",
      "metadata": {
        "execution": {
          "iopub.execute_input": "2022-09-08T13:13:46.943474Z",
          "iopub.status.busy": "2022-09-08T13:13:46.936268Z",
          "iopub.status.idle": "2022-09-08T13:13:47.282937Z",
          "shell.execute_reply": "2022-09-08T13:13:47.283776Z",
          "shell.execute_reply.started": "2022-09-08T12:17:58.586223Z"
        },
        "id": "82f0ba21",
        "papermill": {
          "duration": 0.466329,
          "end_time": "2022-09-08T13:13:47.284062",
          "exception": false,
          "start_time": "2022-09-08T13:13:46.817733",
          "status": "completed"
        },
        "tags": []
      },
      "outputs": [],
      "source": [
        "effictive_list = []\n",
        "for i in train_data.columns:\n",
        "    if i != 187:\n",
        "        pearson_coef, p_value = stats.pearsonr(train_data[i], train_data[187])\n",
        "        effictive_list.append((f'column number : {i}', f'Pearson Correlation {pearson_coef}', f'P-value : {p_value}'))\n",
        "    else: break"
      ]
    },
    {
      "cell_type": "code",
      "execution_count": null,
      "id": "86b5722d",
      "metadata": {
        "execution": {
          "iopub.execute_input": "2022-09-08T13:13:47.560442Z",
          "iopub.status.busy": "2022-09-08T13:13:47.559367Z",
          "iopub.status.idle": "2022-09-08T13:13:47.564005Z",
          "shell.execute_reply": "2022-09-08T13:13:47.564507Z",
          "shell.execute_reply.started": "2022-09-08T12:17:58.979740Z"
        },
        "id": "86b5722d",
        "papermill": {
          "duration": 0.125206,
          "end_time": "2022-09-08T13:13:47.564698",
          "exception": false,
          "start_time": "2022-09-08T13:13:47.439492",
          "status": "completed"
        },
        "tags": [],
        "outputId": "247862f2-d618-4314-b510-5ec386d7e247"
      },
      "outputs": [
        {
          "name": "stdout",
          "output_type": "stream",
          "text": [
            "***************************************************************************\n",
            "('column number : 99', 'Pearson Correlation 0.29915973057729756', 'P-value : 0.0')\n",
            "***************************************************************************\n"
          ]
        }
      ],
      "source": [
        "print('*' * 75)\n",
        "print(max(effictive_list))\n",
        "print('*' * 75)"
      ]
    },
    {
      "cell_type": "code",
      "execution_count": null,
      "id": "382a850b",
      "metadata": {
        "execution": {
          "iopub.execute_input": "2022-09-08T13:13:48.486481Z",
          "iopub.status.busy": "2022-09-08T13:13:48.485779Z",
          "iopub.status.idle": "2022-09-08T13:13:48.680048Z",
          "shell.execute_reply": "2022-09-08T13:13:48.680624Z",
          "shell.execute_reply.started": "2022-09-08T12:17:58.988838Z"
        },
        "id": "382a850b",
        "papermill": {
          "duration": 0.310558,
          "end_time": "2022-09-08T13:13:48.680817",
          "exception": false,
          "start_time": "2022-09-08T13:13:48.370259",
          "status": "completed"
        },
        "tags": [],
        "outputId": "44ca04d3-76b2-469a-ce21-d6af3a823bd3"
      },
      "outputs": [
        {
          "data": {
            "text/plain": [
              "Text(0, 0.5, 'time in seconds')"
            ]
          },
          "execution_count": 36,
          "metadata": {},
          "output_type": "execute_result"
        },
        {
          "data": {
            "image/png": "[encoded data removed]",
            "text/plain": [
              "<Figure size 864x289.44 with 1 Axes>"
            ]
          },
          "metadata": {
            "needs_background": "light"
          },
          "output_type": "display_data"
        }
      ],
      "source": [
        "def add_guassian_noise(signal):\n",
        "    noise = np.random.normal(0,0.05,186)\n",
        "    return(signal + noise)\n",
        "noise_data = add_guassian_noise(train_data.iloc[0,:186])\n",
        "plt.figure(figsize = [12,4.02])\n",
        "plt.plot(train_data.iloc[0,:186], color = 'green')\n",
        "plt.title('data without noise')\n",
        "plt.xlabel('ECG in mili volts')\n",
        "plt.ylabel('time in seconds')"
      ]
    },
    {
      "cell_type": "code",
      "execution_count": null,
      "id": "799bc53a",
      "metadata": {
        "execution": {
          "iopub.execute_input": "2022-09-08T13:13:48.917550Z",
          "iopub.status.busy": "2022-09-08T13:13:48.916699Z",
          "iopub.status.idle": "2022-09-08T13:13:49.082929Z",
          "shell.execute_reply": "2022-09-08T13:13:49.083487Z",
          "shell.execute_reply.started": "2022-09-08T12:17:59.231695Z"
        },
        "id": "799bc53a",
        "papermill": {
          "duration": 0.283871,
          "end_time": "2022-09-08T13:13:49.083667",
          "exception": false,
          "start_time": "2022-09-08T13:13:48.799796",
          "status": "completed"
        },
        "tags": [],
        "outputId": "ec222479-6fb1-4c61-99d3-50b22b254b64"
      },
      "outputs": [
        {
          "data": {
            "image/png": "[encoded data removed]",
            "text/plain": [
              "<Figure size 864x289.44 with 1 Axes>"
            ]
          },
          "metadata": {
            "needs_background": "light"
          },
          "output_type": "display_data"
        }
      ],
      "source": [
        "plt.figure(figsize = [12,4.02])\n",
        "plt.plot(noise_data, color = 'red')\n",
        "plt.title('data with noise')\n",
        "plt.xlabel('ECG in mili volts')\n",
        "plt.ylabel('time in seconds')\n",
        "plt.show()"
      ]
    },
    {
      "cell_type": "code",
      "execution_count": null,
      "id": "e8fce19d",
      "metadata": {
        "execution": {
          "iopub.execute_input": "2022-09-08T13:13:49.794509Z",
          "iopub.status.busy": "2022-09-08T13:13:49.793507Z",
          "iopub.status.idle": "2022-09-08T13:13:49.799180Z",
          "shell.execute_reply": "2022-09-08T13:13:49.799651Z",
          "shell.execute_reply.started": "2022-09-08T12:17:59.445698Z"
        },
        "id": "e8fce19d",
        "papermill": {
          "duration": 0.125382,
          "end_time": "2022-09-08T13:13:49.799846",
          "exception": false,
          "start_time": "2022-09-08T13:13:49.674464",
          "status": "completed"
        },
        "tags": [],
        "outputId": "191b0d84-3664-4f64-beae-d4fbfe3cb4d4"
      },
      "outputs": [
        {
          "data": {
            "text/plain": [
              "3.1333333333333333"
            ]
          },
          "execution_count": 38,
          "metadata": {},
          "output_type": "execute_result"
        }
      ],
      "source": [
        "len(train_data.columns)/60"
      ]
    },
    {
      "cell_type": "code",
      "execution_count": null,
      "id": "621a5886",
      "metadata": {
        "execution": {
          "iopub.execute_input": "2022-09-08T13:13:50.278166Z",
          "iopub.status.busy": "2022-09-08T13:13:50.277383Z",
          "iopub.status.idle": "2022-09-08T13:13:50.340238Z",
          "shell.execute_reply": "2022-09-08T13:13:50.339477Z",
          "shell.execute_reply.started": "2022-09-08T12:17:59.454627Z"
        },
        "id": "621a5886",
        "papermill": {
          "duration": 0.185309,
          "end_time": "2022-09-08T13:13:50.340391",
          "exception": false,
          "start_time": "2022-09-08T13:13:50.155082",
          "status": "completed"
        },
        "tags": []
      },
      "outputs": [],
      "source": [
        "df = train_data.copy()"
      ]
    },
    {
      "cell_type": "code",
      "execution_count": null,
      "id": "def2947e",
      "metadata": {
        "execution": {
          "iopub.execute_input": "2022-09-08T13:13:50.580461Z",
          "iopub.status.busy": "2022-09-08T13:13:50.579677Z",
          "iopub.status.idle": "2022-09-08T13:13:50.652075Z",
          "shell.execute_reply": "2022-09-08T13:13:50.651470Z",
          "shell.execute_reply.started": "2022-09-08T12:17:59.530833Z"
        },
        "id": "def2947e",
        "papermill": {
          "duration": 0.195038,
          "end_time": "2022-09-08T13:13:50.652239",
          "exception": false,
          "start_time": "2022-09-08T13:13:50.457201",
          "status": "completed"
        },
        "tags": []
      },
      "outputs": [],
      "source": [
        "counter = 0\n",
        "while counter <= len(df.columns):\n",
        "    if counter != 186:\n",
        "        df[counter] = df[counter] + df[counter + 1] + df[counter + 2] \n",
        "        counter += 3\n",
        "    else: break\n"
      ]
    },
    {
      "cell_type": "code",
      "execution_count": null,
      "id": "6e02bccb",
      "metadata": {
        "execution": {
          "iopub.execute_input": "2022-09-08T13:13:50.917626Z",
          "iopub.status.busy": "2022-09-08T13:13:50.905558Z",
          "iopub.status.idle": "2022-09-08T13:13:50.922354Z",
          "shell.execute_reply": "2022-09-08T13:13:50.921621Z",
          "shell.execute_reply.started": "2022-09-08T12:17:59.605699Z"
        },
        "id": "6e02bccb",
        "papermill": {
          "duration": 0.151398,
          "end_time": "2022-09-08T13:13:50.922505",
          "exception": false,
          "start_time": "2022-09-08T13:13:50.771107",
          "status": "completed"
        },
        "tags": [],
        "outputId": "6353fef1-2969-401b-c89c-cffb4995b61e"
      },
      "outputs": [
        {
          "data": {
            "text/html": [
              "<div>\n",
              "<style scoped>\n",
              "    .dataframe tbody tr th:only-of-type {\n",
              "        vertical-align: middle;\n",
              "    }\n",
              "\n",
              "    .dataframe tbody tr th {\n",
              "        vertical-align: top;\n",
              "    }\n",
              "\n",
              "    .dataframe thead th {\n",
              "        text-align: right;\n",
              "    }\n",
              "</style>\n",
              "<table border=\"1\" class=\"dataframe\">\n",
              "  <thead>\n",
              "    <tr style=\"text-align: right;\">\n",
              "      <th></th>\n",
              "      <th>0</th>\n",
              "      <th>1</th>\n",
              "      <th>2</th>\n",
              "      <th>3</th>\n",
              "      <th>4</th>\n",
              "      <th>5</th>\n",
              "      <th>6</th>\n",
              "      <th>7</th>\n",
              "      <th>8</th>\n",
              "      <th>9</th>\n",
              "      <th>...</th>\n",
              "      <th>178</th>\n",
              "      <th>179</th>\n",
              "      <th>180</th>\n",
              "      <th>181</th>\n",
              "      <th>182</th>\n",
              "      <th>183</th>\n",
              "      <th>184</th>\n",
              "      <th>185</th>\n",
              "      <th>186</th>\n",
              "      <th>187</th>\n",
              "    </tr>\n",
              "  </thead>\n",
              "  <tbody>\n",
              "    <tr>\n",
              "      <th>10153</th>\n",
              "      <td>1.459302</td>\n",
              "      <td>0.540698</td>\n",
              "      <td>0.755814</td>\n",
              "      <td>0.901163</td>\n",
              "      <td>0.168605</td>\n",
              "      <td>0.546512</td>\n",
              "      <td>1.965116</td>\n",
              "      <td>0.697674</td>\n",
              "      <td>0.651163</td>\n",
              "      <td>2.116279</td>\n",
              "      <td>...</td>\n",
              "      <td>0.0</td>\n",
              "      <td>0.0</td>\n",
              "      <td>0.0</td>\n",
              "      <td>0.0</td>\n",
              "      <td>0.0</td>\n",
              "      <td>0.0</td>\n",
              "      <td>0.0</td>\n",
              "      <td>0.0</td>\n",
              "      <td>0.0</td>\n",
              "      <td>0.0</td>\n",
              "    </tr>\n",
              "    <tr>\n",
              "      <th>33886</th>\n",
              "      <td>2.273179</td>\n",
              "      <td>0.938742</td>\n",
              "      <td>0.344371</td>\n",
              "      <td>0.639073</td>\n",
              "      <td>0.273179</td>\n",
              "      <td>0.331126</td>\n",
              "      <td>1.014901</td>\n",
              "      <td>0.341060</td>\n",
              "      <td>0.347682</td>\n",
              "      <td>1.036424</td>\n",
              "      <td>...</td>\n",
              "      <td>0.0</td>\n",
              "      <td>0.0</td>\n",
              "      <td>0.0</td>\n",
              "      <td>0.0</td>\n",
              "      <td>0.0</td>\n",
              "      <td>0.0</td>\n",
              "      <td>0.0</td>\n",
              "      <td>0.0</td>\n",
              "      <td>0.0</td>\n",
              "      <td>0.0</td>\n",
              "    </tr>\n",
              "    <tr>\n",
              "      <th>32005</th>\n",
              "      <td>2.496487</td>\n",
              "      <td>0.932084</td>\n",
              "      <td>0.590164</td>\n",
              "      <td>0.313817</td>\n",
              "      <td>0.014052</td>\n",
              "      <td>0.168618</td>\n",
              "      <td>0.646370</td>\n",
              "      <td>0.210773</td>\n",
              "      <td>0.196721</td>\n",
              "      <td>0.627635</td>\n",
              "      <td>...</td>\n",
              "      <td>0.0</td>\n",
              "      <td>0.0</td>\n",
              "      <td>0.0</td>\n",
              "      <td>0.0</td>\n",
              "      <td>0.0</td>\n",
              "      <td>0.0</td>\n",
              "      <td>0.0</td>\n",
              "      <td>0.0</td>\n",
              "      <td>0.0</td>\n",
              "      <td>0.0</td>\n",
              "    </tr>\n",
              "    <tr>\n",
              "      <th>56159</th>\n",
              "      <td>2.228495</td>\n",
              "      <td>0.723118</td>\n",
              "      <td>0.526882</td>\n",
              "      <td>0.677419</td>\n",
              "      <td>0.220430</td>\n",
              "      <td>0.158602</td>\n",
              "      <td>0.263441</td>\n",
              "      <td>0.091398</td>\n",
              "      <td>0.080645</td>\n",
              "      <td>0.255376</td>\n",
              "      <td>...</td>\n",
              "      <td>0.0</td>\n",
              "      <td>0.0</td>\n",
              "      <td>0.0</td>\n",
              "      <td>0.0</td>\n",
              "      <td>0.0</td>\n",
              "      <td>0.0</td>\n",
              "      <td>0.0</td>\n",
              "      <td>0.0</td>\n",
              "      <td>0.0</td>\n",
              "      <td>0.0</td>\n",
              "    </tr>\n",
              "    <tr>\n",
              "      <th>61783</th>\n",
              "      <td>1.732984</td>\n",
              "      <td>0.709424</td>\n",
              "      <td>0.060209</td>\n",
              "      <td>0.112565</td>\n",
              "      <td>0.057592</td>\n",
              "      <td>0.041885</td>\n",
              "      <td>0.120419</td>\n",
              "      <td>0.034031</td>\n",
              "      <td>0.039267</td>\n",
              "      <td>0.138743</td>\n",
              "      <td>...</td>\n",
              "      <td>0.0</td>\n",
              "      <td>0.0</td>\n",
              "      <td>0.0</td>\n",
              "      <td>0.0</td>\n",
              "      <td>0.0</td>\n",
              "      <td>0.0</td>\n",
              "      <td>0.0</td>\n",
              "      <td>0.0</td>\n",
              "      <td>0.0</td>\n",
              "      <td>0.0</td>\n",
              "    </tr>\n",
              "  </tbody>\n",
              "</table>\n",
              "<p>5 rows × 188 columns</p>\n",
              "</div>"
            ],
            "text/plain": [
              "            0         1         2         3         4         5         6    \\\n",
              "10153  1.459302  0.540698  0.755814  0.901163  0.168605  0.546512  1.965116   \n",
              "33886  2.273179  0.938742  0.344371  0.639073  0.273179  0.331126  1.014901   \n",
              "32005  2.496487  0.932084  0.590164  0.313817  0.014052  0.168618  0.646370   \n",
              "56159  2.228495  0.723118  0.526882  0.677419  0.220430  0.158602  0.263441   \n",
              "61783  1.732984  0.709424  0.060209  0.112565  0.057592  0.041885  0.120419   \n",
              "\n",
              "            7         8         9    ...  178  179  180  181  182  183  184  \\\n",
              "10153  0.697674  0.651163  2.116279  ...  0.0  0.0  0.0  0.0  0.0  0.0  0.0   \n",
              "33886  0.341060  0.347682  1.036424  ...  0.0  0.0  0.0  0.0  0.0  0.0  0.0   \n",
              "32005  0.210773  0.196721  0.627635  ...  0.0  0.0  0.0  0.0  0.0  0.0  0.0   \n",
              "56159  0.091398  0.080645  0.255376  ...  0.0  0.0  0.0  0.0  0.0  0.0  0.0   \n",
              "61783  0.034031  0.039267  0.138743  ...  0.0  0.0  0.0  0.0  0.0  0.0  0.0   \n",
              "\n",
              "       185  186  187  \n",
              "10153  0.0  0.0  0.0  \n",
              "33886  0.0  0.0  0.0  \n",
              "32005  0.0  0.0  0.0  \n",
              "56159  0.0  0.0  0.0  \n",
              "61783  0.0  0.0  0.0  \n",
              "\n",
              "[5 rows x 188 columns]"
            ]
          },
          "execution_count": 41,
          "metadata": {},
          "output_type": "execute_result"
        }
      ],
      "source": [
        "df.head()"
      ]
    },
    {
      "cell_type": "code",
      "execution_count": null,
      "id": "c773ed70",
      "metadata": {
        "execution": {
          "iopub.execute_input": "2022-09-08T13:13:51.202626Z",
          "iopub.status.busy": "2022-09-08T13:13:51.183972Z",
          "iopub.status.idle": "2022-09-08T13:13:51.403118Z",
          "shell.execute_reply": "2022-09-08T13:13:51.402474Z",
          "shell.execute_reply.started": "2022-09-08T12:17:59.639284Z"
        },
        "id": "c773ed70",
        "papermill": {
          "duration": 0.363066,
          "end_time": "2022-09-08T13:13:51.403281",
          "exception": false,
          "start_time": "2022-09-08T13:13:51.040215",
          "status": "completed"
        },
        "tags": [],
        "outputId": "cfcc0f76-00c0-4c5b-8317-f6300dd4fa11"
      },
      "outputs": [
        {
          "data": {
            "image/png": "[encoded data removed]",
            "text/plain": [
              "<Figure size 864x289.44 with 1 Axes>"
            ]
          },
          "metadata": {
            "needs_background": "light"
          },
          "output_type": "display_data"
        }
      ],
      "source": [
        "plt.figure(figsize = [12,4.02])\n",
        "plt.plot(df.iloc[0,:186], color = 'green')\n",
        "plt.title('data without noise');\n",
        "plt.ylabel('ECG in mili volts');\n",
        "plt.xlabel('time in minutes');"
      ]
    },
    {
      "cell_type": "code",
      "execution_count": null,
      "id": "fc1c4bb3",
      "metadata": {
        "execution": {
          "iopub.execute_input": "2022-09-08T13:13:51.650792Z",
          "iopub.status.busy": "2022-09-08T13:13:51.650100Z",
          "iopub.status.idle": "2022-09-08T13:13:51.988255Z",
          "shell.execute_reply": "2022-09-08T13:13:51.988811Z",
          "shell.execute_reply.started": "2022-09-08T12:18:00.012712Z"
        },
        "id": "fc1c4bb3",
        "papermill": {
          "duration": 0.463577,
          "end_time": "2022-09-08T13:13:51.989028",
          "exception": false,
          "start_time": "2022-09-08T13:13:51.525451",
          "status": "completed"
        },
        "tags": [],
        "outputId": "3ae4395d-3ae2-4370-c699-6ca173babdf4"
      },
      "outputs": [
        {
          "data": {
            "image/png": "[encoded data removed]",
            "text/plain": [
              "<Figure size 864x289.44 with 1 Axes>"
            ]
          },
          "metadata": {
            "needs_background": "light"
          },
          "output_type": "display_data"
        }
      ],
      "source": [
        "def add_guassian_noise2(signal):\n",
        "    noise = np.random.normal(0,500,186)\n",
        "    return(signal + noise)\n",
        "plt.figure(figsize = [12,4.02])\n",
        "plt.plot(add_guassian_noise2(df.iloc[0,:186]), color = 'red')\n",
        "plt.title('data with noise')\n",
        "plt.ylabel('ECG in mili volts')\n",
        "plt.xlabel('time in minutes')\n",
        "plt.show()"
      ]
    },
    {
      "cell_type": "code",
      "execution_count": null,
      "id": "0509d7bd",
      "metadata": {
        "execution": {
          "iopub.execute_input": "2022-09-08T13:13:52.248663Z",
          "iopub.status.busy": "2022-09-08T13:13:52.247935Z",
          "iopub.status.idle": "2022-09-08T13:13:52.266574Z",
          "shell.execute_reply": "2022-09-08T13:13:52.267125Z",
          "shell.execute_reply.started": "2022-09-08T12:18:00.230233Z"
        },
        "id": "0509d7bd",
        "papermill": {
          "duration": 0.153972,
          "end_time": "2022-09-08T13:13:52.267310",
          "exception": false,
          "start_time": "2022-09-08T13:13:52.113338",
          "status": "completed"
        },
        "tags": [],
        "outputId": "c5c4808c-b243-4f4a-ab9d-3f85515d7eb5"
      },
      "outputs": [
        {
          "data": {
            "text/html": [
              "<div>\n",
              "<style scoped>\n",
              "    .dataframe tbody tr th:only-of-type {\n",
              "        vertical-align: middle;\n",
              "    }\n",
              "\n",
              "    .dataframe tbody tr th {\n",
              "        vertical-align: top;\n",
              "    }\n",
              "\n",
              "    .dataframe thead th {\n",
              "        text-align: right;\n",
              "    }\n",
              "</style>\n",
              "<table border=\"1\" class=\"dataframe\">\n",
              "  <thead>\n",
              "    <tr style=\"text-align: right;\">\n",
              "      <th></th>\n",
              "      <th>0</th>\n",
              "      <th>1</th>\n",
              "      <th>2</th>\n",
              "      <th>3</th>\n",
              "      <th>4</th>\n",
              "      <th>5</th>\n",
              "      <th>6</th>\n",
              "      <th>7</th>\n",
              "      <th>8</th>\n",
              "      <th>9</th>\n",
              "      <th>...</th>\n",
              "      <th>178</th>\n",
              "      <th>179</th>\n",
              "      <th>180</th>\n",
              "      <th>181</th>\n",
              "      <th>182</th>\n",
              "      <th>183</th>\n",
              "      <th>184</th>\n",
              "      <th>185</th>\n",
              "      <th>186</th>\n",
              "      <th>187</th>\n",
              "    </tr>\n",
              "  </thead>\n",
              "  <tbody>\n",
              "    <tr>\n",
              "      <th>10153</th>\n",
              "      <td>1.459302</td>\n",
              "      <td>0.540698</td>\n",
              "      <td>0.755814</td>\n",
              "      <td>0.901163</td>\n",
              "      <td>0.168605</td>\n",
              "      <td>0.546512</td>\n",
              "      <td>1.965116</td>\n",
              "      <td>0.697674</td>\n",
              "      <td>0.651163</td>\n",
              "      <td>2.116279</td>\n",
              "      <td>...</td>\n",
              "      <td>0.0</td>\n",
              "      <td>0.0</td>\n",
              "      <td>0.0</td>\n",
              "      <td>0.0</td>\n",
              "      <td>0.0</td>\n",
              "      <td>0.0</td>\n",
              "      <td>0.0</td>\n",
              "      <td>0.0</td>\n",
              "      <td>0.0</td>\n",
              "      <td>0.0</td>\n",
              "    </tr>\n",
              "    <tr>\n",
              "      <th>33886</th>\n",
              "      <td>2.273179</td>\n",
              "      <td>0.938742</td>\n",
              "      <td>0.344371</td>\n",
              "      <td>0.639073</td>\n",
              "      <td>0.273179</td>\n",
              "      <td>0.331126</td>\n",
              "      <td>1.014901</td>\n",
              "      <td>0.341060</td>\n",
              "      <td>0.347682</td>\n",
              "      <td>1.036424</td>\n",
              "      <td>...</td>\n",
              "      <td>0.0</td>\n",
              "      <td>0.0</td>\n",
              "      <td>0.0</td>\n",
              "      <td>0.0</td>\n",
              "      <td>0.0</td>\n",
              "      <td>0.0</td>\n",
              "      <td>0.0</td>\n",
              "      <td>0.0</td>\n",
              "      <td>0.0</td>\n",
              "      <td>0.0</td>\n",
              "    </tr>\n",
              "    <tr>\n",
              "      <th>32005</th>\n",
              "      <td>2.496487</td>\n",
              "      <td>0.932084</td>\n",
              "      <td>0.590164</td>\n",
              "      <td>0.313817</td>\n",
              "      <td>0.014052</td>\n",
              "      <td>0.168618</td>\n",
              "      <td>0.646370</td>\n",
              "      <td>0.210773</td>\n",
              "      <td>0.196721</td>\n",
              "      <td>0.627635</td>\n",
              "      <td>...</td>\n",
              "      <td>0.0</td>\n",
              "      <td>0.0</td>\n",
              "      <td>0.0</td>\n",
              "      <td>0.0</td>\n",
              "      <td>0.0</td>\n",
              "      <td>0.0</td>\n",
              "      <td>0.0</td>\n",
              "      <td>0.0</td>\n",
              "      <td>0.0</td>\n",
              "      <td>0.0</td>\n",
              "    </tr>\n",
              "    <tr>\n",
              "      <th>56159</th>\n",
              "      <td>2.228495</td>\n",
              "      <td>0.723118</td>\n",
              "      <td>0.526882</td>\n",
              "      <td>0.677419</td>\n",
              "      <td>0.220430</td>\n",
              "      <td>0.158602</td>\n",
              "      <td>0.263441</td>\n",
              "      <td>0.091398</td>\n",
              "      <td>0.080645</td>\n",
              "      <td>0.255376</td>\n",
              "      <td>...</td>\n",
              "      <td>0.0</td>\n",
              "      <td>0.0</td>\n",
              "      <td>0.0</td>\n",
              "      <td>0.0</td>\n",
              "      <td>0.0</td>\n",
              "      <td>0.0</td>\n",
              "      <td>0.0</td>\n",
              "      <td>0.0</td>\n",
              "      <td>0.0</td>\n",
              "      <td>0.0</td>\n",
              "    </tr>\n",
              "    <tr>\n",
              "      <th>61783</th>\n",
              "      <td>1.732984</td>\n",
              "      <td>0.709424</td>\n",
              "      <td>0.060209</td>\n",
              "      <td>0.112565</td>\n",
              "      <td>0.057592</td>\n",
              "      <td>0.041885</td>\n",
              "      <td>0.120419</td>\n",
              "      <td>0.034031</td>\n",
              "      <td>0.039267</td>\n",
              "      <td>0.138743</td>\n",
              "      <td>...</td>\n",
              "      <td>0.0</td>\n",
              "      <td>0.0</td>\n",
              "      <td>0.0</td>\n",
              "      <td>0.0</td>\n",
              "      <td>0.0</td>\n",
              "      <td>0.0</td>\n",
              "      <td>0.0</td>\n",
              "      <td>0.0</td>\n",
              "      <td>0.0</td>\n",
              "      <td>0.0</td>\n",
              "    </tr>\n",
              "  </tbody>\n",
              "</table>\n",
              "<p>5 rows × 188 columns</p>\n",
              "</div>"
            ],
            "text/plain": [
              "            0         1         2         3         4         5         6    \\\n",
              "10153  1.459302  0.540698  0.755814  0.901163  0.168605  0.546512  1.965116   \n",
              "33886  2.273179  0.938742  0.344371  0.639073  0.273179  0.331126  1.014901   \n",
              "32005  2.496487  0.932084  0.590164  0.313817  0.014052  0.168618  0.646370   \n",
              "56159  2.228495  0.723118  0.526882  0.677419  0.220430  0.158602  0.263441   \n",
              "61783  1.732984  0.709424  0.060209  0.112565  0.057592  0.041885  0.120419   \n",
              "\n",
              "            7         8         9    ...  178  179  180  181  182  183  184  \\\n",
              "10153  0.697674  0.651163  2.116279  ...  0.0  0.0  0.0  0.0  0.0  0.0  0.0   \n",
              "33886  0.341060  0.347682  1.036424  ...  0.0  0.0  0.0  0.0  0.0  0.0  0.0   \n",
              "32005  0.210773  0.196721  0.627635  ...  0.0  0.0  0.0  0.0  0.0  0.0  0.0   \n",
              "56159  0.091398  0.080645  0.255376  ...  0.0  0.0  0.0  0.0  0.0  0.0  0.0   \n",
              "61783  0.034031  0.039267  0.138743  ...  0.0  0.0  0.0  0.0  0.0  0.0  0.0   \n",
              "\n",
              "       185  186  187  \n",
              "10153  0.0  0.0  0.0  \n",
              "33886  0.0  0.0  0.0  \n",
              "32005  0.0  0.0  0.0  \n",
              "56159  0.0  0.0  0.0  \n",
              "61783  0.0  0.0  0.0  \n",
              "\n",
              "[5 rows x 188 columns]"
            ]
          },
          "execution_count": 44,
          "metadata": {},
          "output_type": "execute_result"
        }
      ],
      "source": [
        "df.head()"
      ]
    },
    {
      "cell_type": "code",
      "execution_count": null,
      "id": "7ce5aa6c",
      "metadata": {
        "execution": {
          "iopub.execute_input": "2022-09-08T13:13:53.264678Z",
          "iopub.status.busy": "2022-09-08T13:13:53.262457Z",
          "iopub.status.idle": "2022-09-08T13:13:53.267758Z",
          "shell.execute_reply": "2022-09-08T13:13:53.267131Z",
          "shell.execute_reply.started": "2022-09-08T12:18:00.262136Z"
        },
        "id": "7ce5aa6c",
        "papermill": {
          "duration": 0.129733,
          "end_time": "2022-09-08T13:13:53.267922",
          "exception": false,
          "start_time": "2022-09-08T13:13:53.138189",
          "status": "completed"
        },
        "tags": []
      },
      "outputs": [],
      "source": [
        "x = train_data.iloc[0,:].values"
      ]
    },
    {
      "cell_type": "code",
      "execution_count": null,
      "id": "e8d4ecd0",
      "metadata": {
        "execution": {
          "iopub.execute_input": "2022-09-08T13:13:53.517566Z",
          "iopub.status.busy": "2022-09-08T13:13:53.516856Z",
          "iopub.status.idle": "2022-09-08T13:13:53.519768Z",
          "shell.execute_reply": "2022-09-08T13:13:53.519267Z",
          "shell.execute_reply.started": "2022-09-08T12:18:00.269298Z"
        },
        "id": "e8d4ecd0",
        "papermill": {
          "duration": 0.131205,
          "end_time": "2022-09-08T13:13:53.519936",
          "exception": false,
          "start_time": "2022-09-08T13:13:53.388731",
          "status": "completed"
        },
        "tags": []
      },
      "outputs": [],
      "source": [
        "from numpy.fft import fft, ifft"
      ]
    },
    {
      "cell_type": "code",
      "execution_count": null,
      "id": "81311cb7",
      "metadata": {
        "execution": {
          "iopub.execute_input": "2022-09-08T13:13:53.792422Z",
          "iopub.status.busy": "2022-09-08T13:13:53.791308Z",
          "iopub.status.idle": "2022-09-08T13:13:53.793331Z",
          "shell.execute_reply": "2022-09-08T13:13:53.793839Z",
          "shell.execute_reply.started": "2022-09-08T12:18:00.282409Z"
        },
        "id": "81311cb7",
        "papermill": {
          "duration": 0.15172,
          "end_time": "2022-09-08T13:13:53.794052",
          "exception": false,
          "start_time": "2022-09-08T13:13:53.642332",
          "status": "completed"
        },
        "tags": []
      },
      "outputs": [],
      "source": [
        "x = train_data.iloc[0,:]\n",
        "X = fft(x)"
      ]
    },
    {
      "cell_type": "code",
      "execution_count": null,
      "id": "69fd5e46",
      "metadata": {
        "execution": {
          "iopub.execute_input": "2022-09-08T13:13:54.068636Z",
          "iopub.status.busy": "2022-09-08T13:13:54.057587Z",
          "iopub.status.idle": "2022-09-08T13:13:54.239542Z",
          "shell.execute_reply": "2022-09-08T13:13:54.240054Z",
          "shell.execute_reply.started": "2022-09-08T12:18:00.295523Z"
        },
        "id": "69fd5e46",
        "papermill": {
          "duration": 0.320229,
          "end_time": "2022-09-08T13:13:54.240244",
          "exception": false,
          "start_time": "2022-09-08T13:13:53.920015",
          "status": "completed"
        },
        "tags": [],
        "outputId": "037dd114-0fbb-4778-f3e1-c2dedd1c107e"
      },
      "outputs": [
        {
          "name": "stderr",
          "output_type": "stream",
          "text": [
            "/opt/conda/lib/python3.7/site-packages/numpy/core/_asarray.py:102: ComplexWarning: Casting complex values to real discards the imaginary part\n",
            "  return array(a, dtype, copy=False, order=order)\n"
          ]
        },
        {
          "data": {
            "text/plain": [
              "[<matplotlib.lines.Line2D at 0x7f02def71810>]"
            ]
          },
          "execution_count": 48,
          "metadata": {},
          "output_type": "execute_result"
        },
        {
          "data": {
            "image/png": "[encoded data removed]",
            "text/plain": [
              "<Figure size 432x288 with 1 Axes>"
            ]
          },
          "metadata": {
            "needs_background": "light"
          },
          "output_type": "display_data"
        }
      ],
      "source": [
        "plt.plot(X)"
      ]
    },
    {
      "cell_type": "code",
      "execution_count": null,
      "id": "cafd9f85",
      "metadata": {
        "execution": {
          "iopub.execute_input": "2022-09-08T13:13:54.509423Z",
          "iopub.status.busy": "2022-09-08T13:13:54.493565Z",
          "iopub.status.idle": "2022-09-08T13:13:54.692343Z",
          "shell.execute_reply": "2022-09-08T13:13:54.692810Z",
          "shell.execute_reply.started": "2022-09-08T12:18:00.496215Z"
        },
        "id": "cafd9f85",
        "papermill": {
          "duration": 0.329784,
          "end_time": "2022-09-08T13:13:54.693039",
          "exception": false,
          "start_time": "2022-09-08T13:13:54.363255",
          "status": "completed"
        },
        "tags": [],
        "outputId": "1b61cc95-6048-42fb-f13b-3254b0fabdaa"
      },
      "outputs": [
        {
          "data": {
            "image/png": "[encoded data removed]",
            "text/plain": [
              "<Figure size 864x432 with 1 Axes>"
            ]
          },
          "metadata": {
            "needs_background": "light"
          },
          "output_type": "display_data"
        }
      ],
      "source": [
        "X = fft(train_data.iloc[0,:186])\n",
        "N = len(X)\n",
        "n = np.arange(N)\n",
        "# get the sampling rate\n",
        "sr = 1 / (60*60)\n",
        "T = N/sr\n",
        "freq = n/T \n",
        "\n",
        "# Get the one-sided specturm\n",
        "n_oneside = N//2\n",
        "# get the one side frequency\n",
        "f_oneside = freq[:n_oneside]\n",
        "\n",
        "plt.figure(figsize = (12, 6))\n",
        "plt.plot(f_oneside, np.abs(X[:n_oneside]), 'b')\n",
        "plt.xlabel('Freq (Hz)')\n",
        "plt.ylabel('FFT Amplitude |X(freq)|')\n",
        "plt.show()"
      ]
    },
    {
      "cell_type": "code",
      "execution_count": null,
      "id": "93832561",
      "metadata": {
        "execution": {
          "iopub.execute_input": "2022-09-08T13:13:54.949652Z",
          "iopub.status.busy": "2022-09-08T13:13:54.948969Z",
          "iopub.status.idle": "2022-09-08T13:13:54.951303Z",
          "shell.execute_reply": "2022-09-08T13:13:54.951934Z",
          "shell.execute_reply.started": "2022-09-08T12:18:00.707538Z"
        },
        "id": "93832561",
        "papermill": {
          "duration": 0.134491,
          "end_time": "2022-09-08T13:13:54.952122",
          "exception": false,
          "start_time": "2022-09-08T13:13:54.817631",
          "status": "completed"
        },
        "tags": []
      },
      "outputs": [],
      "source": [
        "N = len(X)\n",
        "n = np.arange(N)\n",
        "T = N/sr\n",
        "freq = n/T"
      ]
    },
    {
      "cell_type": "code",
      "execution_count": null,
      "id": "a1e62905",
      "metadata": {
        "execution": {
          "iopub.execute_input": "2022-09-08T13:13:55.208190Z",
          "iopub.status.busy": "2022-09-08T13:13:55.207481Z",
          "iopub.status.idle": "2022-09-08T13:13:55.402612Z",
          "shell.execute_reply": "2022-09-08T13:13:55.402091Z",
          "shell.execute_reply.started": "2022-09-08T12:18:00.713823Z"
        },
        "id": "a1e62905",
        "papermill": {
          "duration": 0.322267,
          "end_time": "2022-09-08T13:13:55.402764",
          "exception": false,
          "start_time": "2022-09-08T13:13:55.080497",
          "status": "completed"
        },
        "tags": []
      },
      "outputs": [],
      "source": [
        "plt.stem(freq, np.abs(X), 'b', \\\n",
        "         markerfmt=\" \", basefmt=\"-b\")\n",
        "plt.xlabel('Freq (Hz)')\n",
        "plt.ylabel('FFT Amplitude |X(freq)|')\n",
        "plt.xlim(0, 10);"
      ]
    },
    {
      "cell_type": "code",
      "execution_count": null,
      "id": "d30d1aef",
      "metadata": {
        "execution": {
          "iopub.execute_input": "2022-09-08T13:13:55.930833Z",
          "iopub.status.busy": "2022-09-08T13:13:55.930078Z",
          "iopub.status.idle": "2022-09-08T13:13:56.137921Z",
          "shell.execute_reply": "2022-09-08T13:13:56.137342Z",
          "shell.execute_reply.started": "2022-09-08T12:18:00.921266Z"
        },
        "id": "d30d1aef",
        "papermill": {
          "duration": 0.354212,
          "end_time": "2022-09-08T13:13:56.138119",
          "exception": false,
          "start_time": "2022-09-08T13:13:55.783907",
          "status": "completed"
        },
        "tags": [],
        "outputId": "de49ec3f-d11d-4dde-ac65-53e37dff2084"
      },
      "outputs": [
        {
          "name": "stderr",
          "output_type": "stream",
          "text": [
            "/opt/conda/lib/python3.7/site-packages/numpy/core/_asarray.py:102: ComplexWarning: Casting complex values to real discards the imaginary part\n",
            "  return array(a, dtype, copy=False, order=order)\n"
          ]
        },
        {
          "data": {
            "image/png": "[encoded data removed]",
            "text/plain": [
              "<Figure size 432x288 with 1 Axes>"
            ]
          },
          "metadata": {
            "needs_background": "light"
          },
          "output_type": "display_data"
        }
      ],
      "source": [
        "plt.plot(ifft(X), 'r')\n",
        "plt.xlabel('Time (s)')\n",
        "plt.ylabel('Amplitude')\n",
        "plt.tight_layout()\n",
        "plt.show()"
      ]
    },
    {
      "cell_type": "code",
      "execution_count": null,
      "id": "e2641d16",
      "metadata": {
        "execution": {
          "iopub.execute_input": "2022-09-08T13:13:56.684833Z",
          "iopub.status.busy": "2022-09-08T13:13:56.670736Z",
          "iopub.status.idle": "2022-09-08T13:13:56.843233Z",
          "shell.execute_reply": "2022-09-08T13:13:56.843745Z",
          "shell.execute_reply.started": "2022-09-08T12:18:01.155461Z"
        },
        "id": "e2641d16",
        "papermill": {
          "duration": 0.323706,
          "end_time": "2022-09-08T13:13:56.843969",
          "exception": false,
          "start_time": "2022-09-08T13:13:56.520263",
          "status": "completed"
        },
        "tags": [],
        "outputId": "c0b350cb-85bc-4c3d-d834-755ea228df39"
      },
      "outputs": [
        {
          "name": "stderr",
          "output_type": "stream",
          "text": [
            "/opt/conda/lib/python3.7/site-packages/ipykernel_launcher.py:1: RuntimeWarning: divide by zero encountered in true_divide\n",
            "  \"\"\"Entry point for launching an IPython kernel.\n"
          ]
        },
        {
          "data": {
            "image/png": "[encoded data removed]",
            "text/plain": [
              "<Figure size 864x432 with 1 Axes>"
            ]
          },
          "metadata": {
            "needs_background": "light"
          },
          "output_type": "display_data"
        }
      ],
      "source": [
        "t_h = 1/f_oneside / (60 * 60)\n",
        "\n",
        "plt.figure(figsize=(12,6))\n",
        "plt.plot(t_h, np.abs(X[:n_oneside])/n_oneside)\n",
        "plt.xticks([12, 24, 84, 168])\n",
        "plt.xlim(0, 200)\n",
        "plt.xlabel('Period (hour)')\n",
        "plt.show()"
      ]
    },
    {
      "cell_type": "code",
      "execution_count": null,
      "id": "4d4074f5",
      "metadata": {
        "execution": {
          "iopub.execute_input": "2022-09-08T13:13:57.895646Z",
          "iopub.status.busy": "2022-09-08T13:13:57.894763Z",
          "iopub.status.idle": "2022-09-08T13:13:57.989405Z",
          "shell.execute_reply": "2022-09-08T13:13:57.988781Z",
          "shell.execute_reply.started": "2022-09-08T12:18:01.355072Z"
        },
        "id": "4d4074f5",
        "papermill": {
          "duration": 0.225706,
          "end_time": "2022-09-08T13:13:57.989579",
          "exception": false,
          "start_time": "2022-09-08T13:13:57.763873",
          "status": "completed"
        },
        "tags": []
      },
      "outputs": [],
      "source": [
        "from sklearn.model_selection import train_test_split"
      ]
    },
    {
      "cell_type": "code",
      "execution_count": null,
      "id": "96a8fb88",
      "metadata": {
        "execution": {
          "iopub.execute_input": "2022-09-08T13:13:58.254112Z",
          "iopub.status.busy": "2022-09-08T13:13:58.253374Z",
          "iopub.status.idle": "2022-09-08T13:13:58.305256Z",
          "shell.execute_reply": "2022-09-08T13:13:58.305780Z",
          "shell.execute_reply.started": "2022-09-08T12:18:01.446560Z"
        },
        "id": "96a8fb88",
        "papermill": {
          "duration": 0.185872,
          "end_time": "2022-09-08T13:13:58.306002",
          "exception": false,
          "start_time": "2022-09-08T13:13:58.120130",
          "status": "completed"
        },
        "tags": []
      },
      "outputs": [],
      "source": [
        "X_train = train_data.drop(187, axis=1)\n",
        "y_train = train_data[187]"
      ]
    },
    {
      "cell_type": "code",
      "execution_count": null,
      "id": "ba8b3c32",
      "metadata": {
        "execution": {
          "iopub.execute_input": "2022-09-08T13:13:58.571532Z",
          "iopub.status.busy": "2022-09-08T13:13:58.570768Z",
          "iopub.status.idle": "2022-09-08T13:13:58.580233Z",
          "shell.execute_reply": "2022-09-08T13:13:58.579644Z",
          "shell.execute_reply.started": "2022-09-08T12:18:01.501332Z"
        },
        "id": "ba8b3c32",
        "papermill": {
          "duration": 0.141229,
          "end_time": "2022-09-08T13:13:58.580406",
          "exception": false,
          "start_time": "2022-09-08T13:13:58.439177",
          "status": "completed"
        },
        "tags": []
      },
      "outputs": [],
      "source": [
        "X_test = test_data.drop(187, axis=1)\n",
        "y_test = test_data[187]"
      ]
    },
    {
      "cell_type": "code",
      "execution_count": null,
      "id": "b8b43a3d",
      "metadata": {
        "execution": {
          "iopub.execute_input": "2022-09-08T13:13:58.850602Z",
          "iopub.status.busy": "2022-09-08T13:13:58.849501Z",
          "iopub.status.idle": "2022-09-08T13:13:58.851530Z",
          "shell.execute_reply": "2022-09-08T13:13:58.852241Z",
          "shell.execute_reply.started": "2022-09-08T12:18:01.516931Z"
        },
        "id": "b8b43a3d",
        "papermill": {
          "duration": 0.138545,
          "end_time": "2022-09-08T13:13:58.852430",
          "exception": false,
          "start_time": "2022-09-08T13:13:58.713885",
          "status": "completed"
        },
        "tags": []
      },
      "outputs": [],
      "source": [
        "X_train = X_train.values\n",
        "y_train = y_train.values"
      ]
    },
    {
      "cell_type": "code",
      "execution_count": null,
      "id": "322c2950",
      "metadata": {
        "execution": {
          "iopub.execute_input": "2022-09-08T13:13:59.117783Z",
          "iopub.status.busy": "2022-09-08T13:13:59.116982Z",
          "iopub.status.idle": "2022-09-08T13:13:59.120448Z",
          "shell.execute_reply": "2022-09-08T13:13:59.119707Z",
          "shell.execute_reply.started": "2022-09-08T12:18:01.523416Z"
        },
        "id": "322c2950",
        "papermill": {
          "duration": 0.138941,
          "end_time": "2022-09-08T13:13:59.120609",
          "exception": false,
          "start_time": "2022-09-08T13:13:58.981668",
          "status": "completed"
        },
        "tags": []
      },
      "outputs": [],
      "source": [
        "X_test = X_test.values\n",
        "y_test = y_test.values"
      ]
    },
    {
      "cell_type": "code",
      "execution_count": null,
      "id": "fbe9a3cd",
      "metadata": {
        "execution": {
          "iopub.execute_input": "2022-09-08T13:13:59.391163Z",
          "iopub.status.busy": "2022-09-08T13:13:59.390385Z",
          "iopub.status.idle": "2022-09-08T13:13:59.402872Z",
          "shell.execute_reply": "2022-09-08T13:13:59.402159Z",
          "shell.execute_reply.started": "2022-09-08T12:18:01.536187Z"
        },
        "id": "fbe9a3cd",
        "papermill": {
          "duration": 0.150875,
          "end_time": "2022-09-08T13:13:59.403044",
          "exception": false,
          "start_time": "2022-09-08T13:13:59.252169",
          "status": "completed"
        },
        "tags": [],
        "outputId": "a0824a9a-4f50-4a3a-9924-30227c15f32f"
      },
      "outputs": [
        {
          "data": {
            "text/html": [
              "<div>\n",
              "<style scoped>\n",
              "    .dataframe tbody tr th:only-of-type {\n",
              "        vertical-align: middle;\n",
              "    }\n",
              "\n",
              "    .dataframe tbody tr th {\n",
              "        vertical-align: top;\n",
              "    }\n",
              "\n",
              "    .dataframe thead th {\n",
              "        text-align: right;\n",
              "    }\n",
              "</style>\n",
              "<table border=\"1\" class=\"dataframe\">\n",
              "  <thead>\n",
              "    <tr style=\"text-align: right;\">\n",
              "      <th></th>\n",
              "      <th>0</th>\n",
              "      <th>1</th>\n",
              "    </tr>\n",
              "  </thead>\n",
              "  <tbody>\n",
              "    <tr>\n",
              "      <th>0</th>\n",
              "      <td>0.0</td>\n",
              "      <td>20000.0</td>\n",
              "    </tr>\n",
              "    <tr>\n",
              "      <th>1</th>\n",
              "      <td>1.0</td>\n",
              "      <td>20000.0</td>\n",
              "    </tr>\n",
              "    <tr>\n",
              "      <th>2</th>\n",
              "      <td>2.0</td>\n",
              "      <td>20000.0</td>\n",
              "    </tr>\n",
              "    <tr>\n",
              "      <th>3</th>\n",
              "      <td>3.0</td>\n",
              "      <td>20000.0</td>\n",
              "    </tr>\n",
              "    <tr>\n",
              "      <th>4</th>\n",
              "      <td>4.0</td>\n",
              "      <td>20000.0</td>\n",
              "    </tr>\n",
              "  </tbody>\n",
              "</table>\n",
              "</div>"
            ],
            "text/plain": [
              "     0        1\n",
              "0  0.0  20000.0\n",
              "1  1.0  20000.0\n",
              "2  2.0  20000.0\n",
              "3  3.0  20000.0\n",
              "4  4.0  20000.0"
            ]
          },
          "execution_count": 59,
          "metadata": {},
          "output_type": "execute_result"
        }
      ],
      "source": [
        "unique, counts = np.unique(y_train, return_counts=True)\n",
        "\n",
        "pd.DataFrame(np.asarray((unique, counts)).T)"
      ]
    },
    {
      "cell_type": "code",
      "execution_count": null,
      "id": "14a07649",
      "metadata": {
        "execution": {
          "iopub.execute_input": "2022-09-08T13:13:59.929973Z",
          "iopub.status.busy": "2022-09-08T13:13:59.928978Z",
          "iopub.status.idle": "2022-09-08T13:13:59.931154Z",
          "shell.execute_reply": "2022-09-08T13:13:59.931765Z",
          "shell.execute_reply.started": "2022-09-08T12:18:01.559935Z"
        },
        "id": "14a07649",
        "papermill": {
          "duration": 0.137391,
          "end_time": "2022-09-08T13:13:59.931971",
          "exception": false,
          "start_time": "2022-09-08T13:13:59.794580",
          "status": "completed"
        },
        "tags": []
      },
      "outputs": [],
      "source": [
        "val = X_train[0][1]"
      ]
    },
    {
      "cell_type": "code",
      "execution_count": null,
      "id": "4bfb6234",
      "metadata": {
        "execution": {
          "iopub.execute_input": "2022-09-08T13:14:00.199364Z",
          "iopub.status.busy": "2022-09-08T13:14:00.198369Z",
          "iopub.status.idle": "2022-09-08T13:14:00.202679Z",
          "shell.execute_reply": "2022-09-08T13:14:00.203358Z",
          "shell.execute_reply.started": "2022-09-08T12:18:01.565815Z"
        },
        "id": "4bfb6234",
        "papermill": {
          "duration": 0.138138,
          "end_time": "2022-09-08T13:14:00.203544",
          "exception": false,
          "start_time": "2022-09-08T13:14:00.065406",
          "status": "completed"
        },
        "tags": []
      },
      "outputs": [],
      "source": [
        "from sklearn.preprocessing import Normalizer\n",
        "from sklearn.preprocessing import StandardScaler"
      ]
    },
    {
      "cell_type": "code",
      "execution_count": null,
      "id": "728c1a11",
      "metadata": {
        "execution": {
          "iopub.execute_input": "2022-09-08T13:14:00.466550Z",
          "iopub.status.busy": "2022-09-08T13:14:00.465624Z",
          "iopub.status.idle": "2022-09-08T13:14:00.470172Z",
          "shell.execute_reply": "2022-09-08T13:14:00.469536Z",
          "shell.execute_reply.started": "2022-09-08T12:18:01.576900Z"
        },
        "id": "728c1a11",
        "papermill": {
          "duration": 0.137299,
          "end_time": "2022-09-08T13:14:00.470358",
          "exception": false,
          "start_time": "2022-09-08T13:14:00.333059",
          "status": "completed"
        },
        "tags": []
      },
      "outputs": [],
      "source": [
        "norm = Normalizer()\n",
        "std = StandardScaler()"
      ]
    },
    {
      "cell_type": "code",
      "execution_count": null,
      "id": "6f6953b6",
      "metadata": {
        "execution": {
          "iopub.execute_input": "2022-09-08T13:14:00.747526Z",
          "iopub.status.busy": "2022-09-08T13:14:00.746493Z",
          "iopub.status.idle": "2022-09-08T13:14:00.749527Z",
          "shell.execute_reply": "2022-09-08T13:14:00.748974Z",
          "shell.execute_reply.started": "2022-09-08T12:18:01.588333Z"
        },
        "id": "6f6953b6",
        "papermill": {
          "duration": 0.146546,
          "end_time": "2022-09-08T13:14:00.749687",
          "exception": false,
          "start_time": "2022-09-08T13:14:00.603141",
          "status": "completed"
        },
        "tags": []
      },
      "outputs": [],
      "source": [
        "val1 = norm.fit_transform([[val]])\n",
        "val2 = std.fit_transform([[val]])"
      ]
    },
    {
      "cell_type": "code",
      "execution_count": null,
      "id": "28c76d6d",
      "metadata": {
        "execution": {
          "iopub.execute_input": "2022-09-08T13:14:01.279802Z",
          "iopub.status.busy": "2022-09-08T13:14:01.279083Z",
          "iopub.status.idle": "2022-09-08T13:14:01.653245Z",
          "shell.execute_reply": "2022-09-08T13:14:01.652623Z",
          "shell.execute_reply.started": "2022-09-08T12:19:30.925195Z"
        },
        "id": "28c76d6d",
        "papermill": {
          "duration": 0.507017,
          "end_time": "2022-09-08T13:14:01.653673",
          "exception": false,
          "start_time": "2022-09-08T13:14:01.146656",
          "status": "completed"
        },
        "tags": []
      },
      "outputs": [],
      "source": [
        "from sklearn.linear_model import LogisticRegression\n",
        "from sklearn.neighbors import KNeighborsClassifier\n",
        "from sklearn.svm import SVC\n",
        "from sklearn.naive_bayes import GaussianNB\n",
        "from sklearn.tree import DecisionTreeClassifier\n",
        "from sklearn.ensemble import RandomForestClassifier\n",
        "from xgboost import XGBClassifier\n",
        "\n",
        "from sklearn.metrics import confusion_matrix, accuracy_score, precision_score, recall_score, f1_score, fbeta_score"
      ]
    },
    {
      "cell_type": "code",
      "execution_count": null,
      "id": "0108dfef",
      "metadata": {
        "execution": {
          "iopub.execute_input": "2022-09-08T13:14:01.923635Z",
          "iopub.status.busy": "2022-09-08T13:14:01.922885Z",
          "iopub.status.idle": "2022-09-08T13:14:01.925275Z",
          "shell.execute_reply": "2022-09-08T13:14:01.925786Z",
          "shell.execute_reply.started": "2022-09-08T12:19:33.927232Z"
        },
        "id": "0108dfef",
        "papermill": {
          "duration": 0.141081,
          "end_time": "2022-09-08T13:14:01.926020",
          "exception": false,
          "start_time": "2022-09-08T13:14:01.784939",
          "status": "completed"
        },
        "tags": []
      },
      "outputs": [],
      "source": [
        "models = {\n",
        "    \"LR\": LogisticRegression(solver='liblinear'),\n",
        "    \"KNN\": KNeighborsClassifier(),\n",
        "    \"DT\": DecisionTreeClassifier(),\n",
        "    \"RF\": RandomForestClassifier(),\n",
        "    \"XGB\": XGBClassifier(),\n",
        "    \"Naive Bayes\": GaussianNB(),\n",
        "    \"SVC\": SVC()\n",
        "\n",
        "}"
      ]
    },
    {
      "cell_type": "code",
      "execution_count": null,
      "id": "c26170b8",
      "metadata": {
        "execution": {
          "iopub.execute_input": "2022-09-08T13:14:02.255325Z",
          "iopub.status.busy": "2022-09-08T13:14:02.254611Z",
          "iopub.status.idle": "2022-09-08T13:14:02.259858Z",
          "shell.execute_reply": "2022-09-08T13:14:02.260397Z",
          "shell.execute_reply.started": "2022-09-08T12:19:48.897403Z"
        },
        "papermill": {
          "duration": 0.202998,
          "end_time": "2022-09-08T13:14:02.260580",
          "exception": false,
          "start_time": "2022-09-08T13:14:02.057582",
          "status": "completed"
        },
        "tags": [],
        "id": "c26170b8",
        "outputId": "4a037b16-d51c-48cc-9853-6409a1bd211b"
      },
      "outputs": [
        {
          "data": {
            "text/plain": [
              "numpy.ndarray"
            ]
          },
          "execution_count": 66,
          "metadata": {},
          "output_type": "execute_result"
        }
      ],
      "source": [
        "type(X_train)"
      ]
    },
    {
      "cell_type": "code",
      "execution_count": null,
      "id": "2c3cf582",
      "metadata": {
        "execution": {
          "iopub.execute_input": "2022-09-08T13:14:02.529886Z",
          "iopub.status.busy": "2022-09-08T13:14:02.528801Z",
          "iopub.status.idle": "2022-09-08T13:16:40.831807Z",
          "shell.execute_reply": "2022-09-08T13:16:40.832441Z",
          "shell.execute_reply.started": "2022-09-08T12:19:48.909864Z"
        },
        "papermill": {
          "duration": 158.442295,
          "end_time": "2022-09-08T13:16:40.832654",
          "exception": false,
          "start_time": "2022-09-08T13:14:02.390359",
          "status": "completed"
        },
        "tags": [],
        "id": "2c3cf582"
      },
      "outputs": [],
      "source": [
        "pip install scikit-learn  -U"
      ]
    },
    {
      "cell_type": "code",
      "execution_count": null,
      "id": "66be3c20",
      "metadata": {
        "execution": {
          "iopub.execute_input": "2022-09-08T13:16:41.115053Z",
          "iopub.status.busy": "2022-09-08T13:16:41.113347Z",
          "iopub.status.idle": "2022-09-08T13:55:34.889061Z",
          "shell.execute_reply": "2022-09-08T13:55:34.888450Z",
          "shell.execute_reply.started": "2022-09-08T12:22:27.088364Z"
        },
        "id": "66be3c20",
        "papermill": {
          "duration": 2333.921649,
          "end_time": "2022-09-08T13:55:34.889217",
          "exception": false,
          "start_time": "2022-09-08T13:16:40.967568",
          "status": "completed"
        },
        "tags": [],
        "outputId": "8a3d8511-001e-46d2-d891-edad26a9a782"
      },
      "outputs": [
        {
          "name": "stdout",
          "output_type": "stream",
          "text": [
            "Training Model LR \n",
            "--------------\n",
            "Training Accuracy: 0.77789\n",
            "Testing Accuracy: 0.7782\n",
            "Testing Confusion Matrix: \n",
            "[[1262  280  219  183   56]\n",
            " [ 382 1449   90   58   21]\n",
            " [ 189   69 1460  189   93]\n",
            " [ 119   22   96 1758    5]\n",
            " [  50   12   69   16 1853]]\n",
            "Recall Score :  0.7782\n",
            "Precision Score :  0.7782\n",
            "Testing F-1: 0.7782\n",
            "Testing F-Beta: 0.7782\n",
            "------------------------------\n",
            "Training Model KNN \n",
            "--------------\n"
          ]
        },
        {
          "name": "stderr",
          "output_type": "stream",
          "text": [
            "/opt/conda/lib/python3.7/site-packages/sklearn/metrics/_classification.py:1270: UserWarning: Note that pos_label (set to 'positive') is ignored when average != 'binary' (got 'micro'). You may use labels=[pos_label] to specify a single positive class.\n",
            "  % (pos_label, average), UserWarning)\n"
          ]
        },
        {
          "name": "stdout",
          "output_type": "stream",
          "text": [
            "Training Accuracy: 0.98929\n",
            "Testing Accuracy: 0.9861\n",
            "Testing Confusion Matrix: \n",
            "[[1880   55   41   16    8]\n",
            " [   0 2000    0    0    0]\n",
            " [  11    0 1986    2    1]\n",
            " [   0    0    0 2000    0]\n",
            " [   4    0    1    0 1995]]\n",
            "Recall Score :  0.9861\n",
            "Precision Score :  0.9861\n",
            "Testing F-1: 0.9861\n",
            "Testing F-Beta: 0.9861\n",
            "------------------------------\n",
            "Training Model DT \n",
            "--------------\n"
          ]
        },
        {
          "name": "stderr",
          "output_type": "stream",
          "text": [
            "/opt/conda/lib/python3.7/site-packages/sklearn/metrics/_classification.py:1270: UserWarning: Note that pos_label (set to 'positive') is ignored when average != 'binary' (got 'micro'). You may use labels=[pos_label] to specify a single positive class.\n",
            "  % (pos_label, average), UserWarning)\n"
          ]
        },
        {
          "name": "stdout",
          "output_type": "stream",
          "text": [
            "Training Accuracy: 1.0\n",
            "Testing Accuracy: 0.9907\n",
            "Testing Confusion Matrix: \n",
            "[[1907   29   36   11   17]\n",
            " [   0 2000    0    0    0]\n",
            " [   0    0 2000    0    0]\n",
            " [   0    0    0 2000    0]\n",
            " [   0    0    0    0 2000]]\n",
            "Recall Score :  0.9907\n",
            "Precision Score :  0.9907\n",
            "Testing F-1: 0.9907\n",
            "Testing F-Beta: 0.9907\n",
            "------------------------------\n",
            "Training Model RF \n",
            "--------------\n"
          ]
        },
        {
          "name": "stderr",
          "output_type": "stream",
          "text": [
            "/opt/conda/lib/python3.7/site-packages/sklearn/metrics/_classification.py:1270: UserWarning: Note that pos_label (set to 'positive') is ignored when average != 'binary' (got 'micro'). You may use labels=[pos_label] to specify a single positive class.\n",
            "  % (pos_label, average), UserWarning)\n"
          ]
        },
        {
          "name": "stdout",
          "output_type": "stream",
          "text": [
            "Training Accuracy: 1.0\n",
            "Testing Accuracy: 0.9988\n",
            "Testing Confusion Matrix: \n",
            "[[1988    4    6    2    0]\n",
            " [   0 2000    0    0    0]\n",
            " [   0    0 2000    0    0]\n",
            " [   0    0    0 2000    0]\n",
            " [   0    0    0    0 2000]]\n",
            "Recall Score :  0.9988\n",
            "Precision Score :  0.9988\n",
            "Testing F-1: 0.9988\n",
            "Testing F-Beta: 0.9988000000000001\n",
            "------------------------------\n",
            "Training Model XGB \n",
            "--------------\n"
          ]
        },
        {
          "name": "stderr",
          "output_type": "stream",
          "text": [
            "/opt/conda/lib/python3.7/site-packages/sklearn/metrics/_classification.py:1270: UserWarning: Note that pos_label (set to 'positive') is ignored when average != 'binary' (got 'micro'). You may use labels=[pos_label] to specify a single positive class.\n",
            "  % (pos_label, average), UserWarning)\n",
            "/opt/conda/lib/python3.7/site-packages/xgboost/sklearn.py:1224: UserWarning: The use of label encoder in XGBClassifier is deprecated and will be removed in a future release. To remove this warning, do the following: 1) Pass option use_label_encoder=False when constructing XGBClassifier object; and 2) Encode your labels (y) as integers starting with 0, i.e. 0, 1, 2, ..., [num_class - 1].\n",
            "  warnings.warn(label_encoder_deprecation_msg, UserWarning)\n"
          ]
        },
        {
          "name": "stdout",
          "output_type": "stream",
          "text": [
            "[13:23:37] WARNING: ../src/learner.cc:1115: Starting in XGBoost 1.3.0, the default evaluation metric used with the objective 'multi:softprob' was changed from 'merror' to 'mlogloss'. Explicitly set eval_metric if you'd like to restore the old behavior.\n",
            "Training Accuracy: 0.99968\n",
            "Testing Accuracy: 0.9967\n",
            "Testing Confusion Matrix: \n",
            "[[1967   18    9    5    1]\n",
            " [   0 2000    0    0    0]\n",
            " [   0    0 2000    0    0]\n",
            " [   0    0    0 2000    0]\n",
            " [   0    0    0    0 2000]]\n",
            "Recall Score :  0.9967\n",
            "Precision Score :  0.9967\n",
            "Testing F-1: 0.9967\n",
            "Testing F-Beta: 0.9966999999999999\n",
            "------------------------------\n",
            "Training Model Naive Bayes \n",
            "--------------\n",
            "Training Accuracy: 0.45545\n",
            "Testing Accuracy: 0.4518\n",
            "Testing Confusion Matrix: \n",
            "[[ 198   12  130  318 1342]\n",
            " [ 101  245  162  191 1301]\n",
            " [ 157   22  404   80 1337]\n",
            " [   4    6   16 1696  278]\n",
            " [   0    0    6   19 1975]]\n",
            "Recall Score :  0.4518\n",
            "Precision Score :  0.4518\n",
            "Testing F-1: 0.4518\n",
            "Testing F-Beta: 0.4518\n",
            "------------------------------\n",
            "Training Model SVC \n",
            "--------------\n"
          ]
        },
        {
          "name": "stderr",
          "output_type": "stream",
          "text": [
            "/opt/conda/lib/python3.7/site-packages/sklearn/metrics/_classification.py:1270: UserWarning: Note that pos_label (set to 'positive') is ignored when average != 'binary' (got 'micro'). You may use labels=[pos_label] to specify a single positive class.\n",
            "  % (pos_label, average), UserWarning)\n"
          ]
        },
        {
          "name": "stdout",
          "output_type": "stream",
          "text": [
            "Training Accuracy: 0.94759\n",
            "Testing Accuracy: 0.9498\n",
            "Testing Confusion Matrix: \n",
            "[[1804   76   21   92    7]\n",
            " [ 135 1847    9    7    2]\n",
            " [  38    7 1902   48    5]\n",
            " [  15    0    8 1977    0]\n",
            " [   9    8   12    3 1968]]\n",
            "Recall Score :  0.9498\n",
            "Precision Score :  0.9498\n",
            "Testing F-1: 0.9498000000000001\n",
            "Testing F-Beta: 0.9498\n",
            "------------------------------\n"
          ]
        },
        {
          "name": "stderr",
          "output_type": "stream",
          "text": [
            "/opt/conda/lib/python3.7/site-packages/sklearn/metrics/_classification.py:1270: UserWarning: Note that pos_label (set to 'positive') is ignored when average != 'binary' (got 'micro'). You may use labels=[pos_label] to specify a single positive class.\n",
            "  % (pos_label, average), UserWarning)\n"
          ]
        }
      ],
      "source": [
        "for name, model in models.items():\n",
        "    print(f'Training Model {name} \\n--------------')\n",
        "    model.fit(X_train, y_train)\n",
        "    y_pred = model.predict(X_test)\n",
        "    print(f'Training Accuracy: {accuracy_score(y_train, model.predict(X_train))}')\n",
        "    print(f'Testing Accuracy: {accuracy_score(y_test, y_pred)}')\n",
        "    print(f'Testing Confusion Matrix: \\n{confusion_matrix(y_test, y_pred)}')\n",
        "    print(\"Recall Score : \",recall_score(y_test, y_pred, pos_label='positive', average='micro'))    \n",
        "    print(\"Precision Score : \",precision_score(y_test, y_pred,  pos_label='positive',average='micro'))     \n",
        "    \n",
        "    \n",
        "    print(f\"Testing F-1:\", f1_score(y_test, y_pred, pos_label='positive', average='micro' )        )\n",
        "    \n",
        "    \n",
        "    \n",
        "    print(f\"Testing F-Beta:\", fbeta_score(y_test, y_pred, beta=0.5, pos_label='positive', average='micro'))\n",
        "    print('-'*30)"
      ]
    },
    {
      "cell_type": "code",
      "execution_count": null,
      "id": "ac9ca463",
      "metadata": {
        "execution": {
          "iopub.execute_input": "2022-09-08T13:55:36.028036Z",
          "iopub.status.busy": "2022-09-08T13:55:36.026989Z",
          "iopub.status.idle": "2022-09-08T13:55:36.029712Z",
          "shell.execute_reply": "2022-09-08T13:55:36.029076Z",
          "shell.execute_reply.started": "2022-09-08T13:01:12.892665Z"
        },
        "id": "ac9ca463",
        "papermill": {
          "duration": 0.149292,
          "end_time": "2022-09-08T13:55:36.029862",
          "exception": false,
          "start_time": "2022-09-08T13:55:35.880570",
          "status": "completed"
        },
        "tags": []
      },
      "outputs": [],
      "source": [
        "model = XGBClassifier()"
      ]
    },
    {
      "cell_type": "code",
      "execution_count": null,
      "id": "06b24473",
      "metadata": {
        "execution": {
          "iopub.execute_input": "2022-09-08T13:55:36.317028Z",
          "iopub.status.busy": "2022-09-08T13:55:36.316266Z",
          "iopub.status.idle": "2022-09-08T14:01:43.077175Z",
          "shell.execute_reply": "2022-09-08T14:01:43.077741Z",
          "shell.execute_reply.started": "2022-09-08T13:01:57.178853Z"
        },
        "id": "06b24473",
        "papermill": {
          "duration": 366.909328,
          "end_time": "2022-09-08T14:01:43.077982",
          "exception": false,
          "start_time": "2022-09-08T13:55:36.168654",
          "status": "completed"
        },
        "tags": [],
        "outputId": "17a9ea26-a591-4bd1-97dc-b0ece63741cb"
      },
      "outputs": [
        {
          "name": "stderr",
          "output_type": "stream",
          "text": [
            "/opt/conda/lib/python3.7/site-packages/xgboost/sklearn.py:1224: UserWarning: The use of label encoder in XGBClassifier is deprecated and will be removed in a future release. To remove this warning, do the following: 1) Pass option use_label_encoder=False when constructing XGBClassifier object; and 2) Encode your labels (y) as integers starting with 0, i.e. 0, 1, 2, ..., [num_class - 1].\n",
            "  warnings.warn(label_encoder_deprecation_msg, UserWarning)\n"
          ]
        },
        {
          "name": "stdout",
          "output_type": "stream",
          "text": [
            "[13:55:40] WARNING: ../src/learner.cc:1115: Starting in XGBoost 1.3.0, the default evaluation metric used with the objective 'multi:softprob' was changed from 'merror' to 'mlogloss'. Explicitly set eval_metric if you'd like to restore the old behavior.\n"
          ]
        },
        {
          "data": {
            "text/plain": [
              "XGBClassifier(base_score=0.5, booster='gbtree', colsample_bylevel=1,\n",
              "              colsample_bynode=1, colsample_bytree=1, enable_categorical=False,\n",
              "              gamma=0, gpu_id=-1, importance_type=None,\n",
              "              interaction_constraints='', learning_rate=0.300000012,\n",
              "              max_delta_step=0, max_depth=6, min_child_weight=1, missing=nan,\n",
              "              monotone_constraints='()', n_estimators=100, n_jobs=4,\n",
              "              num_parallel_tree=1, objective='multi:softprob', predictor='auto',\n",
              "              random_state=0, reg_alpha=0, reg_lambda=1, scale_pos_weight=None,\n",
              "              subsample=1, tree_method='exact', validate_parameters=1,\n",
              "              verbosity=None)"
            ]
          },
          "execution_count": 70,
          "metadata": {},
          "output_type": "execute_result"
        }
      ],
      "source": [
        "model.fit(X_train, y_train)"
      ]
    },
    {
      "cell_type": "code",
      "execution_count": null,
      "id": "95025e63",
      "metadata": {
        "execution": {
          "iopub.execute_input": "2022-09-08T14:01:43.368595Z",
          "iopub.status.busy": "2022-09-08T14:01:43.366017Z",
          "iopub.status.idle": "2022-09-08T14:01:43.376765Z",
          "shell.execute_reply": "2022-09-08T14:01:43.377357Z",
          "shell.execute_reply.started": "2022-09-08T13:09:46.530022Z"
        },
        "id": "95025e63",
        "papermill": {
          "duration": 0.157424,
          "end_time": "2022-09-08T14:01:43.377562",
          "exception": false,
          "start_time": "2022-09-08T14:01:43.220138",
          "status": "completed"
        },
        "tags": [],
        "outputId": "de67b171-45d6-497c-d4b7-f7dd934ea50f"
      },
      "outputs": [
        {
          "name": "stdout",
          "output_type": "stream",
          "text": [
            "XGBClassifier(base_score=0.5, booster='gbtree', colsample_bylevel=1,\n",
            "              colsample_bynode=1, colsample_bytree=1, enable_categorical=False,\n",
            "              gamma=0, gpu_id=-1, importance_type=None,\n",
            "              interaction_constraints='', learning_rate=0.300000012,\n",
            "              max_delta_step=0, max_depth=6, min_child_weight=1, missing=nan,\n",
            "              monotone_constraints='()', n_estimators=100, n_jobs=4,\n",
            "              num_parallel_tree=1, objective='multi:softprob', predictor='auto',\n",
            "              random_state=0, reg_alpha=0, reg_lambda=1, scale_pos_weight=None,\n",
            "              subsample=1, tree_method='exact', validate_parameters=1,\n",
            "              verbosity=None)\n"
          ]
        }
      ],
      "source": [
        "print(model)"
      ]
    },
    {
      "cell_type": "code",
      "execution_count": null,
      "id": "1c9d6311",
      "metadata": {
        "execution": {
          "iopub.execute_input": "2022-09-08T14:01:43.670106Z",
          "iopub.status.busy": "2022-09-08T14:01:43.669380Z",
          "iopub.status.idle": "2022-09-08T14:01:43.772757Z",
          "shell.execute_reply": "2022-09-08T14:01:43.772123Z",
          "shell.execute_reply.started": "2022-09-08T13:09:50.250660Z"
        },
        "id": "1c9d6311",
        "papermill": {
          "duration": 0.250511,
          "end_time": "2022-09-08T14:01:43.772953",
          "exception": false,
          "start_time": "2022-09-08T14:01:43.522442",
          "status": "completed"
        },
        "tags": []
      },
      "outputs": [],
      "source": [
        "# make predictions for test data\n",
        "y_pred = model.predict(X_test)\n",
        "predictions = [round(value) for value in y_pred]"
      ]
    },
    {
      "cell_type": "code",
      "execution_count": null,
      "id": "0e6dd496",
      "metadata": {
        "execution": {
          "iopub.execute_input": "2022-09-08T14:01:44.065199Z",
          "iopub.status.busy": "2022-09-08T14:01:44.062763Z",
          "iopub.status.idle": "2022-09-08T14:01:44.070404Z",
          "shell.execute_reply": "2022-09-08T14:01:44.071433Z",
          "shell.execute_reply.started": "2022-09-08T13:09:56.215016Z"
        },
        "id": "0e6dd496",
        "papermill": {
          "duration": 0.155617,
          "end_time": "2022-09-08T14:01:44.071684",
          "exception": false,
          "start_time": "2022-09-08T14:01:43.916067",
          "status": "completed"
        },
        "tags": [],
        "outputId": "3902cb30-0d3c-4480-95b8-595302548644"
      },
      "outputs": [
        {
          "name": "stdout",
          "output_type": "stream",
          "text": [
            "Accuracy: 99.67%\n"
          ]
        }
      ],
      "source": [
        "# evaluate predictions\n",
        "accuracy = accuracy_score(y_test, predictions)\n",
        "print(\"Accuracy: %.2f%%\" % (accuracy * 100.0))"
      ]
    },
    {
      "cell_type": "code",
      "execution_count": null,
      "id": "65c6a3d0",
      "metadata": {
        "execution": {
          "iopub.execute_input": "2022-09-08T14:01:44.364195Z",
          "iopub.status.busy": "2022-09-08T14:01:44.363411Z",
          "iopub.status.idle": "2022-09-08T14:01:44.367164Z",
          "shell.execute_reply": "2022-09-08T14:01:44.367697Z",
          "shell.execute_reply.started": "2022-09-08T13:10:12.187055Z"
        },
        "id": "65c6a3d0",
        "papermill": {
          "duration": 0.152794,
          "end_time": "2022-09-08T14:01:44.367877",
          "exception": false,
          "start_time": "2022-09-08T14:01:44.215083",
          "status": "completed"
        },
        "tags": []
      },
      "outputs": [],
      "source": [
        "rounded_y = np.round(y_pred)"
      ]
    },
    {
      "cell_type": "code",
      "execution_count": null,
      "id": "baeababf",
      "metadata": {
        "execution": {
          "iopub.execute_input": "2022-09-08T14:01:44.662829Z",
          "iopub.status.busy": "2022-09-08T14:01:44.660080Z",
          "iopub.status.idle": "2022-09-08T14:01:44.664987Z",
          "shell.execute_reply": "2022-09-08T14:01:44.665579Z",
          "shell.execute_reply.started": "2022-09-08T13:10:16.469885Z"
        },
        "id": "baeababf",
        "papermill": {
          "duration": 0.152445,
          "end_time": "2022-09-08T14:01:44.665766",
          "exception": false,
          "start_time": "2022-09-08T14:01:44.513321",
          "status": "completed"
        },
        "tags": []
      },
      "outputs": [],
      "source": [
        "unique = pd.DataFrame(y_test)"
      ]
    },
    {
      "cell_type": "code",
      "execution_count": null,
      "id": "9303b03e",
      "metadata": {
        "execution": {
          "iopub.execute_input": "2022-09-08T14:01:44.975617Z",
          "iopub.status.busy": "2022-09-08T14:01:44.974884Z",
          "iopub.status.idle": "2022-09-08T14:01:44.980795Z",
          "shell.execute_reply": "2022-09-08T14:01:44.981318Z",
          "shell.execute_reply.started": "2022-09-08T13:10:21.023765Z"
        },
        "id": "9303b03e",
        "papermill": {
          "duration": 0.152208,
          "end_time": "2022-09-08T14:01:44.981496",
          "exception": false,
          "start_time": "2022-09-08T14:01:44.829288",
          "status": "completed"
        },
        "tags": [],
        "outputId": "03e5a589-2871-4a3d-d892-8b0db669f243"
      },
      "outputs": [
        {
          "data": {
            "text/plain": [
              "array([0., 1., 2., 3., 4.])"
            ]
          },
          "execution_count": 76,
          "metadata": {},
          "output_type": "execute_result"
        }
      ],
      "source": [
        "unique[0].unique()"
      ]
    },
    {
      "cell_type": "code",
      "execution_count": null,
      "id": "018173ed",
      "metadata": {
        "execution": {
          "iopub.execute_input": "2022-09-08T14:01:45.277860Z",
          "iopub.status.busy": "2022-09-08T14:01:45.277171Z",
          "iopub.status.idle": "2022-09-08T14:01:45.287040Z",
          "shell.execute_reply": "2022-09-08T14:01:45.287610Z",
          "shell.execute_reply.started": "2022-09-08T13:10:31.890366Z"
        },
        "id": "018173ed",
        "papermill": {
          "duration": 0.156825,
          "end_time": "2022-09-08T14:01:45.287813",
          "exception": false,
          "start_time": "2022-09-08T14:01:45.130988",
          "status": "completed"
        },
        "tags": [],
        "outputId": "5ef6721a-3340-43cd-ec49-e5f8b96c45ca"
      },
      "outputs": [
        {
          "data": {
            "text/plain": [
              "array([[[8000,    0],\n",
              "        [  33, 1967]],\n",
              "\n",
              "       [[7982,   18],\n",
              "        [   0, 2000]],\n",
              "\n",
              "       [[7991,    9],\n",
              "        [   0, 2000]],\n",
              "\n",
              "       [[7995,    5],\n",
              "        [   0, 2000]],\n",
              "\n",
              "       [[7999,    1],\n",
              "        [   0, 2000]]])"
            ]
          },
          "execution_count": 77,
          "metadata": {},
          "output_type": "execute_result"
        }
      ],
      "source": [
        "from sklearn.metrics import multilabel_confusion_matrix\n",
        "y_unique = unique[0].unique()\n",
        "mcm = multilabel_confusion_matrix(y_test, y_pred, labels = y_unique)\n",
        "mcm"
      ]
    },
    {
      "cell_type": "code",
      "execution_count": null,
      "id": "88045c3d",
      "metadata": {
        "execution": {
          "iopub.execute_input": "2022-09-08T14:01:45.581485Z",
          "iopub.status.busy": "2022-09-08T14:01:45.580608Z",
          "iopub.status.idle": "2022-09-08T14:01:45.582547Z",
          "shell.execute_reply": "2022-09-08T14:01:45.583081Z",
          "shell.execute_reply.started": "2022-09-08T13:11:01.330897Z"
        },
        "id": "88045c3d",
        "papermill": {
          "duration": 0.152944,
          "end_time": "2022-09-08T14:01:45.583277",
          "exception": false,
          "start_time": "2022-09-08T14:01:45.430333",
          "status": "completed"
        },
        "tags": []
      },
      "outputs": [],
      "source": [
        "# from sklearn.model_selection import cross_val_score\n",
        "# accuracies = cross_val_score(estimator = model, X = X_train, y = y_train, cv = 10, n_jobs = -1)\n",
        "# print(\"Accuracy: {:.2f} %\".format(accuracies.mean()*100))\n",
        "# print(\"Standard Deviation: {:.2f} %\".format(accuracies.std()*100))"
      ]
    },
    {
      "cell_type": "code",
      "execution_count": null,
      "id": "aed183ef",
      "metadata": {
        "execution": {
          "iopub.execute_input": "2022-09-08T14:01:46.164401Z",
          "iopub.status.busy": "2022-09-08T14:01:46.163709Z",
          "iopub.status.idle": "2022-09-08T14:01:46.166739Z",
          "shell.execute_reply": "2022-09-08T14:01:46.167430Z",
          "shell.execute_reply.started": "2022-09-08T13:01:32.320693Z"
        },
        "id": "aed183ef",
        "papermill": {
          "duration": 0.152973,
          "end_time": "2022-09-08T14:01:46.167613",
          "exception": false,
          "start_time": "2022-09-08T14:01:46.014640",
          "status": "completed"
        },
        "tags": []
      },
      "outputs": [],
      "source": [
        "# pd.DataFrame(accuracies)"
      ]
    },
    {
      "cell_type": "code",
      "execution_count": null,
      "id": "a07555a6",
      "metadata": {
        "execution": {
          "iopub.execute_input": "2022-09-08T14:01:46.734415Z",
          "iopub.status.busy": "2022-09-08T14:01:46.733712Z",
          "iopub.status.idle": "2022-09-08T14:01:46.737831Z",
          "shell.execute_reply": "2022-09-08T14:01:46.738402Z",
          "shell.execute_reply.started": "2022-09-08T13:01:32.321864Z"
        },
        "id": "a07555a6",
        "papermill": {
          "duration": 0.149079,
          "end_time": "2022-09-08T14:01:46.738574",
          "exception": false,
          "start_time": "2022-09-08T14:01:46.589495",
          "status": "completed"
        },
        "tags": []
      },
      "outputs": [],
      "source": [
        "from sklearn.model_selection import  GridSearchCV"
      ]
    },
    {
      "cell_type": "code",
      "execution_count": null,
      "id": "c04e146d",
      "metadata": {
        "execution": {
          "iopub.execute_input": "2022-09-08T14:01:47.031572Z",
          "iopub.status.busy": "2022-09-08T14:01:47.030822Z",
          "iopub.status.idle": "2022-09-08T14:01:47.040286Z",
          "shell.execute_reply": "2022-09-08T14:01:47.039387Z",
          "shell.execute_reply.started": "2022-09-08T13:01:32.323311Z"
        },
        "id": "c04e146d",
        "papermill": {
          "duration": 0.160918,
          "end_time": "2022-09-08T14:01:47.040523",
          "exception": false,
          "start_time": "2022-09-08T14:01:46.879605",
          "status": "completed"
        },
        "tags": []
      },
      "outputs": [],
      "source": [
        "params = {\n",
        "        'min_child_weight': [1, 5, 10],\n",
        "        'gamma': [0.5, 1, 1.5, 2, 5],\n",
        "        'subsample': [0.6, 0.8, 1.0],\n",
        "        'colsample_bytree': [0.6, 0.8, 1.0],\n",
        "        'max_depth': [3, 4, 5]\n",
        "}"
      ]
    },
    {
      "cell_type": "code",
      "execution_count": null,
      "id": "a3af13de",
      "metadata": {
        "execution": {
          "iopub.execute_input": "2022-09-08T14:01:47.355386Z",
          "iopub.status.busy": "2022-09-08T14:01:47.354362Z",
          "iopub.status.idle": "2022-09-08T14:01:47.360237Z",
          "shell.execute_reply": "2022-09-08T14:01:47.361036Z",
          "shell.execute_reply.started": "2022-09-08T13:01:32.324770Z"
        },
        "id": "a3af13de",
        "papermill": {
          "duration": 0.164759,
          "end_time": "2022-09-08T14:01:47.361318",
          "exception": false,
          "start_time": "2022-09-08T14:01:47.196559",
          "status": "completed"
        },
        "tags": []
      },
      "outputs": [],
      "source": [
        "# grid_search = GridSearchCV(estimator = model, param_grid = params, scoring = 'accuracy', cv = 10, n_jobs= -1)"
      ]
    },
    {
      "cell_type": "code",
      "execution_count": null,
      "id": "7b7e03eb",
      "metadata": {
        "execution": {
          "iopub.execute_input": "2022-09-08T14:01:47.684315Z",
          "iopub.status.busy": "2022-09-08T14:01:47.683350Z",
          "iopub.status.idle": "2022-09-08T14:01:47.685195Z",
          "shell.execute_reply": "2022-09-08T14:01:47.686037Z",
          "shell.execute_reply.started": "2022-09-08T13:01:32.326101Z"
        },
        "id": "7b7e03eb",
        "papermill": {
          "duration": 0.164086,
          "end_time": "2022-09-08T14:01:47.686276",
          "exception": false,
          "start_time": "2022-09-08T14:01:47.522190",
          "status": "completed"
        },
        "tags": []
      },
      "outputs": [],
      "source": [
        "import tqdm"
      ]
    },
    {
      "cell_type": "code",
      "execution_count": null,
      "id": "44dbc052",
      "metadata": {
        "execution": {
          "iopub.execute_input": "2022-09-08T14:01:47.993605Z",
          "iopub.status.busy": "2022-09-08T14:01:47.992380Z",
          "iopub.status.idle": "2022-09-08T14:01:47.994521Z",
          "shell.execute_reply": "2022-09-08T14:01:47.995182Z",
          "shell.execute_reply.started": "2022-09-08T13:01:32.327728Z"
        },
        "id": "44dbc052",
        "papermill": {
          "duration": 0.156236,
          "end_time": "2022-09-08T14:01:47.995374",
          "exception": false,
          "start_time": "2022-09-08T14:01:47.839138",
          "status": "completed"
        },
        "tags": []
      },
      "outputs": [],
      "source": [
        "import time"
      ]
    },
    {
      "cell_type": "code",
      "execution_count": null,
      "id": "a1180a24",
      "metadata": {
        "execution": {
          "iopub.execute_input": "2022-09-08T14:01:48.305856Z",
          "iopub.status.busy": "2022-09-08T14:01:48.304691Z",
          "iopub.status.idle": "2022-09-08T14:01:48.307659Z",
          "shell.execute_reply": "2022-09-08T14:01:48.307026Z",
          "shell.execute_reply.started": "2022-09-08T13:01:32.329136Z"
        },
        "id": "a1180a24",
        "papermill": {
          "duration": 0.158782,
          "end_time": "2022-09-08T14:01:48.307828",
          "exception": false,
          "start_time": "2022-09-08T14:01:48.149046",
          "status": "completed"
        },
        "tags": []
      },
      "outputs": [],
      "source": [
        "# for i in time:\n",
        "# #   tqdm(grid_search = grid_search.fit(X_train, y_train))"
      ]
    },
    {
      "cell_type": "code",
      "execution_count": null,
      "id": "34dc864c",
      "metadata": {
        "execution": {
          "iopub.execute_input": "2022-09-08T14:01:48.612206Z",
          "iopub.status.busy": "2022-09-08T14:01:48.611433Z",
          "iopub.status.idle": "2022-09-08T14:01:48.612942Z",
          "shell.execute_reply": "2022-09-08T14:01:48.613515Z",
          "shell.execute_reply.started": "2022-09-08T13:01:32.330742Z"
        },
        "id": "34dc864c",
        "papermill": {
          "duration": 0.156951,
          "end_time": "2022-09-08T14:01:48.613706",
          "exception": false,
          "start_time": "2022-09-08T14:01:48.456755",
          "status": "completed"
        },
        "tags": []
      },
      "outputs": [],
      "source": [
        "# best_accuracy = grid_search.best_score_\n",
        "# bets_params = grid_search.best_params_"
      ]
    },
    {
      "cell_type": "code",
      "execution_count": null,
      "id": "70801632",
      "metadata": {
        "execution": {
          "iopub.execute_input": "2022-09-08T14:01:48.917484Z",
          "iopub.status.busy": "2022-09-08T14:01:48.916095Z",
          "iopub.status.idle": "2022-09-08T14:01:48.919371Z",
          "shell.execute_reply": "2022-09-08T14:01:48.919962Z",
          "shell.execute_reply.started": "2022-09-08T13:01:32.332324Z"
        },
        "id": "70801632",
        "papermill": {
          "duration": 0.152018,
          "end_time": "2022-09-08T14:01:48.920158",
          "exception": false,
          "start_time": "2022-09-08T14:01:48.768140",
          "status": "completed"
        },
        "tags": []
      },
      "outputs": [],
      "source": [
        "# print(f'the best accuracy is {best_accuracy} % while the recommanded parameters is : {bets_params}')"
      ]
    },
    {
      "cell_type": "code",
      "execution_count": null,
      "id": "057d098e",
      "metadata": {
        "execution": {
          "iopub.execute_input": "2022-09-08T14:01:49.219696Z",
          "iopub.status.busy": "2022-09-08T14:01:49.218849Z",
          "iopub.status.idle": "2022-09-08T14:01:49.222327Z",
          "shell.execute_reply": "2022-09-08T14:01:49.222961Z",
          "shell.execute_reply.started": "2022-09-08T13:01:32.335536Z"
        },
        "id": "057d098e",
        "papermill": {
          "duration": 0.158063,
          "end_time": "2022-09-08T14:01:49.223146",
          "exception": false,
          "start_time": "2022-09-08T14:01:49.065083",
          "status": "completed"
        },
        "tags": []
      },
      "outputs": [],
      "source": [
        "# import warnings\n",
        "# warnings.filterwarnings('ignore')\n",
        "# import numpy as np\n",
        "# import pandas as pd\n",
        "# from datetime import datetime\n",
        "# from sklearn.model_selection import RandomizedSearchCV, GridSearchCV\n",
        "# from sklearn.metrics import roc_auc_score\n",
        "# from sklearn.model_selection import StratifiedKFold\n",
        "# from xgboost import XGBClassifier"
      ]
    },
    {
      "cell_type": "code",
      "execution_count": null,
      "id": "ec89c1d3",
      "metadata": {
        "execution": {
          "iopub.execute_input": "2022-09-08T14:01:49.523270Z",
          "iopub.status.busy": "2022-09-08T14:01:49.522574Z",
          "iopub.status.idle": "2022-09-08T14:01:49.524563Z",
          "shell.execute_reply": "2022-09-08T14:01:49.525067Z",
          "shell.execute_reply.started": "2022-09-08T13:01:32.337362Z"
        },
        "papermill": {
          "duration": 0.148821,
          "end_time": "2022-09-08T14:01:49.525242",
          "exception": false,
          "start_time": "2022-09-08T14:01:49.376421",
          "status": "completed"
        },
        "tags": [],
        "id": "ec89c1d3"
      },
      "outputs": [],
      "source": [
        "# def timer(start_time=None):\n",
        "#     if not start_time:\n",
        "#         start_time = datetime.now()\n",
        "#         return start_time\n",
        "#     elif start_time:\n",
        "#         thour, temp_sec = divmod((datetime.now() - start_time).total_seconds(), 3600)\n",
        "#         tmin, tsec = divmod(temp_sec, 60)\n",
        "#         print('\\n Time taken: %i hours %i minutes and %s seconds.' % (thour, tmin, round(tsec, 2)))"
      ]
    },
    {
      "cell_type": "code",
      "execution_count": null,
      "id": "69b8ac50",
      "metadata": {
        "execution": {
          "iopub.execute_input": "2022-09-08T14:01:49.813044Z",
          "iopub.status.busy": "2022-09-08T14:01:49.812012Z",
          "iopub.status.idle": "2022-09-08T14:01:49.815558Z",
          "shell.execute_reply": "2022-09-08T14:01:49.816203Z",
          "shell.execute_reply.started": "2022-09-08T13:01:32.339418Z"
        },
        "papermill": {
          "duration": 0.149719,
          "end_time": "2022-09-08T14:01:49.816397",
          "exception": false,
          "start_time": "2022-09-08T14:01:49.666678",
          "status": "completed"
        },
        "tags": [],
        "id": "69b8ac50"
      },
      "outputs": [],
      "source": [
        "# folds = 3\n",
        "# param_comb = 5\n",
        "\n",
        "# skf = StratifiedKFold(n_splits=folds, shuffle = True, random_state = 1001)\n",
        "\n",
        "# random_search = RandomizedSearchCV(model, param_distributions=params, n_iter=param_comb, scoring='roc_auc', n_jobs=-1 cv=skf.split(X_train,y_train), verbose=3, random_state=1001 )\n",
        "\n",
        "# # Here we go\n",
        "# start_time = timer(None) # timing starts from this point for \"start_time\" variable\n",
        "# random_search.fit(X_train, y_train)\n",
        "# timer(start_time)"
      ]
    },
    {
      "cell_type": "code",
      "execution_count": null,
      "id": "1c01efa8",
      "metadata": {
        "execution": {
          "iopub.execute_input": "2022-09-08T14:01:50.109616Z",
          "iopub.status.busy": "2022-09-08T14:01:50.108770Z",
          "iopub.status.idle": "2022-09-08T14:01:50.110442Z",
          "shell.execute_reply": "2022-09-08T14:01:50.111103Z",
          "shell.execute_reply.started": "2022-09-08T13:01:32.341011Z"
        },
        "papermill": {
          "duration": 0.153417,
          "end_time": "2022-09-08T14:01:50.111288",
          "exception": false,
          "start_time": "2022-09-08T14:01:49.957871",
          "status": "completed"
        },
        "tags": [],
        "id": "1c01efa8"
      },
      "outputs": [],
      "source": [
        "# print('\\n All results:')\n",
        "# print(random_search.cv_results_)\n",
        "# print('\\n Best estimator:')\n",
        "# print(random_search.best_estimator_)\n",
        "# print('\\n Best normalized gini score for %d-fold search with %d parameter combinations:' % (folds, param_comb))\n",
        "# print(random_search.best_score_ * 2 - 1)\n",
        "# print('\\n Best hyperparameters:')\n",
        "# print(random_search.best_params_)\n",
        "# results = pd.DataFrame(random_search.cv_results_)\n",
        "# results.to_csv('xgb-random-grid-search-results-01.csv', index=False)"
      ]
    }
  ],
  "metadata": {
    "kernelspec": {
      "display_name": "Python 3",
      "language": "python",
      "name": "python3"
    },
    "language_info": {
      "codemirror_mode": {
        "name": "ipython",
        "version": 3
      },
      "file_extension": ".py",
      "mimetype": "text/x-python",
      "name": "python",
      "nbconvert_exporter": "python",
      "pygments_lexer": "ipython3",
      "version": "3.7.12"
    },
    "papermill": {
      "default_parameters": {},
      "duration": 2919.765871,
      "end_time": "2022-09-08T14:01:51.073702",
      "environment_variables": {},
      "exception": null,
      "input_path": "__notebook__.ipynb",
      "output_path": "__notebook__.ipynb",
      "parameters": {},
      "start_time": "2022-09-08T13:13:11.307831",
      "version": "2.3.3"
    },
    "colab": {
      "provenance": [],
      "collapsed_sections": []
    }
  },
  "nbformat": 4,
  "nbformat_minor": 5
}