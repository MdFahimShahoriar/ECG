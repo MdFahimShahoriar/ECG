{
  "cells": [
    {
      "cell_type": "code",
      "execution_count": null,
      "id": "65879a81",
      "metadata": {
        "_cell_guid": "b1076dfc-b9ad-4769-8c92-a6c4dae69d19",
        "_uuid": "8f2839f25d086af736a60e9eeb907d3b93b6e0e5",
        "execution": {
          "iopub.execute_input": "2022-07-06T18:35:39.483381Z",
          "iopub.status.busy": "2022-07-06T18:35:39.482762Z",
          "iopub.status.idle": "2022-07-06T18:35:39.507776Z",
          "shell.execute_reply": "2022-07-06T18:35:39.506628Z"
        },
        "papermill": {
          "duration": 0.044357,
          "end_time": "2022-07-06T18:35:39.511239",
          "exception": false,
          "start_time": "2022-07-06T18:35:39.466882",
          "status": "completed"
        },
        "tags": [],
        "id": "65879a81"
      },
      "outputs": [],
      "source": [
        "import numpy as np \n",
        "import pandas as pd\n",
        "import os\n",
        "for dirname, _, filenames in os.walk('/data/input'):\n",
        "    for filename in filenames:\n",
        "        print(os.path.join(dirname, filename))"
      ]
    },
    {
      "cell_type": "code",
      "execution_count": null,
      "id": "d49053b1",
      "metadata": {
        "execution": {
          "iopub.execute_input": "2022-07-06T18:35:39.534069Z",
          "iopub.status.busy": "2022-07-06T18:35:39.533090Z",
          "iopub.status.idle": "2022-07-06T18:35:40.726558Z",
          "shell.execute_reply": "2022-07-06T18:35:40.725516Z"
        },
        "papermill": {
          "duration": 1.207067,
          "end_time": "2022-07-06T18:35:40.729100",
          "exception": false,
          "start_time": "2022-07-06T18:35:39.522033",
          "status": "completed"
        },
        "tags": [],
        "id": "d49053b1"
      },
      "outputs": [],
      "source": [
        "from matplotlib import pyplot as plt\n",
        "import seaborn as sns\n",
        "import math \n",
        "import random\n",
        "from scipy.signal import resample"
      ]
    },
    {
      "cell_type": "code",
      "execution_count": null,
      "id": "5c0f3ea4",
      "metadata": {
        "execution": {
          "iopub.execute_input": "2022-07-06T18:35:40.751295Z",
          "iopub.status.busy": "2022-07-06T18:35:40.749544Z",
          "iopub.status.idle": "2022-07-06T18:35:50.170360Z",
          "shell.execute_reply": "2022-07-06T18:35:50.169297Z"
        },
        "papermill": {
          "duration": 9.433996,
          "end_time": "2022-07-06T18:35:50.172986",
          "exception": false,
          "start_time": "2022-07-06T18:35:40.738990",
          "status": "completed"
        },
        "tags": [],
        "id": "5c0f3ea4"
      },
      "outputs": [],
      "source": [
        "train_df = pd.read_csv('/input/heartbeat/mitbih_train.csv',header=None)\n",
        "test_df = pd.read_csv('/input/heartbeat/mitbih_test.csv',header=None)"
      ]
    },
    {
      "cell_type": "code",
      "execution_count": null,
      "id": "2a2bd247",
      "metadata": {
        "execution": {
          "iopub.execute_input": "2022-07-06T18:35:50.194295Z",
          "iopub.status.busy": "2022-07-06T18:35:50.193938Z",
          "iopub.status.idle": "2022-07-06T18:35:50.245307Z",
          "shell.execute_reply": "2022-07-06T18:35:50.244117Z"
        },
        "papermill": {
          "duration": 0.066027,
          "end_time": "2022-07-06T18:35:50.248858",
          "exception": false,
          "start_time": "2022-07-06T18:35:50.182831",
          "status": "completed"
        },
        "tags": [],
        "id": "2a2bd247",
        "outputId": "383f5e2b-52bd-49a3-8d2f-13aea73b797e"
      },
      "outputs": [
        {
          "data": {
            "text/html": [
              "<div>\n",
              "<style scoped>\n",
              "    .dataframe tbody tr th:only-of-type {\n",
              "        vertical-align: middle;\n",
              "    }\n",
              "\n",
              "    .dataframe tbody tr th {\n",
              "        vertical-align: top;\n",
              "    }\n",
              "\n",
              "    .dataframe thead th {\n",
              "        text-align: right;\n",
              "    }\n",
              "</style>\n",
              "<table border=\"1\" class=\"dataframe\">\n",
              "  <thead>\n",
              "    <tr style=\"text-align: right;\">\n",
              "      <th></th>\n",
              "      <th>0</th>\n",
              "      <th>1</th>\n",
              "      <th>2</th>\n",
              "      <th>3</th>\n",
              "      <th>4</th>\n",
              "      <th>5</th>\n",
              "      <th>6</th>\n",
              "      <th>7</th>\n",
              "      <th>8</th>\n",
              "      <th>9</th>\n",
              "      <th>...</th>\n",
              "      <th>178</th>\n",
              "      <th>179</th>\n",
              "      <th>180</th>\n",
              "      <th>181</th>\n",
              "      <th>182</th>\n",
              "      <th>183</th>\n",
              "      <th>184</th>\n",
              "      <th>185</th>\n",
              "      <th>186</th>\n",
              "      <th>187</th>\n",
              "    </tr>\n",
              "  </thead>\n",
              "  <tbody>\n",
              "    <tr>\n",
              "      <th>49854</th>\n",
              "      <td>0.980328</td>\n",
              "      <td>0.865574</td>\n",
              "      <td>0.481967</td>\n",
              "      <td>0.167213</td>\n",
              "      <td>0.121311</td>\n",
              "      <td>0.108197</td>\n",
              "      <td>0.091803</td>\n",
              "      <td>0.055738</td>\n",
              "      <td>0.062295</td>\n",
              "      <td>0.039344</td>\n",
              "      <td>...</td>\n",
              "      <td>0.0</td>\n",
              "      <td>0.0</td>\n",
              "      <td>0.0</td>\n",
              "      <td>0.0</td>\n",
              "      <td>0.0</td>\n",
              "      <td>0.0</td>\n",
              "      <td>0.0</td>\n",
              "      <td>0.0</td>\n",
              "      <td>0.0</td>\n",
              "      <td>0.0</td>\n",
              "    </tr>\n",
              "    <tr>\n",
              "      <th>70965</th>\n",
              "      <td>1.000000</td>\n",
              "      <td>0.488608</td>\n",
              "      <td>0.192405</td>\n",
              "      <td>0.121519</td>\n",
              "      <td>0.096203</td>\n",
              "      <td>0.050633</td>\n",
              "      <td>0.043038</td>\n",
              "      <td>0.053165</td>\n",
              "      <td>0.032911</td>\n",
              "      <td>0.025316</td>\n",
              "      <td>...</td>\n",
              "      <td>0.0</td>\n",
              "      <td>0.0</td>\n",
              "      <td>0.0</td>\n",
              "      <td>0.0</td>\n",
              "      <td>0.0</td>\n",
              "      <td>0.0</td>\n",
              "      <td>0.0</td>\n",
              "      <td>0.0</td>\n",
              "      <td>0.0</td>\n",
              "      <td>0.0</td>\n",
              "    </tr>\n",
              "    <tr>\n",
              "      <th>15178</th>\n",
              "      <td>1.000000</td>\n",
              "      <td>0.714634</td>\n",
              "      <td>0.163415</td>\n",
              "      <td>0.063415</td>\n",
              "      <td>0.090244</td>\n",
              "      <td>0.014634</td>\n",
              "      <td>0.026829</td>\n",
              "      <td>0.017073</td>\n",
              "      <td>0.017073</td>\n",
              "      <td>0.043902</td>\n",
              "      <td>...</td>\n",
              "      <td>0.0</td>\n",
              "      <td>0.0</td>\n",
              "      <td>0.0</td>\n",
              "      <td>0.0</td>\n",
              "      <td>0.0</td>\n",
              "      <td>0.0</td>\n",
              "      <td>0.0</td>\n",
              "      <td>0.0</td>\n",
              "      <td>0.0</td>\n",
              "      <td>0.0</td>\n",
              "    </tr>\n",
              "    <tr>\n",
              "      <th>84738</th>\n",
              "      <td>0.732006</td>\n",
              "      <td>0.655436</td>\n",
              "      <td>0.551302</td>\n",
              "      <td>0.437979</td>\n",
              "      <td>0.301685</td>\n",
              "      <td>0.168453</td>\n",
              "      <td>0.075038</td>\n",
              "      <td>0.024502</td>\n",
              "      <td>0.001531</td>\n",
              "      <td>0.033691</td>\n",
              "      <td>...</td>\n",
              "      <td>0.0</td>\n",
              "      <td>0.0</td>\n",
              "      <td>0.0</td>\n",
              "      <td>0.0</td>\n",
              "      <td>0.0</td>\n",
              "      <td>0.0</td>\n",
              "      <td>0.0</td>\n",
              "      <td>0.0</td>\n",
              "      <td>0.0</td>\n",
              "      <td>4.0</td>\n",
              "    </tr>\n",
              "    <tr>\n",
              "      <th>52627</th>\n",
              "      <td>1.000000</td>\n",
              "      <td>0.640000</td>\n",
              "      <td>0.120000</td>\n",
              "      <td>0.072727</td>\n",
              "      <td>0.116364</td>\n",
              "      <td>0.101818</td>\n",
              "      <td>0.072727</td>\n",
              "      <td>0.047273</td>\n",
              "      <td>0.061818</td>\n",
              "      <td>0.072727</td>\n",
              "      <td>...</td>\n",
              "      <td>0.0</td>\n",
              "      <td>0.0</td>\n",
              "      <td>0.0</td>\n",
              "      <td>0.0</td>\n",
              "      <td>0.0</td>\n",
              "      <td>0.0</td>\n",
              "      <td>0.0</td>\n",
              "      <td>0.0</td>\n",
              "      <td>0.0</td>\n",
              "      <td>0.0</td>\n",
              "    </tr>\n",
              "    <tr>\n",
              "      <th>55506</th>\n",
              "      <td>0.887129</td>\n",
              "      <td>0.930693</td>\n",
              "      <td>0.566337</td>\n",
              "      <td>0.336634</td>\n",
              "      <td>0.285149</td>\n",
              "      <td>0.302970</td>\n",
              "      <td>0.265347</td>\n",
              "      <td>0.225743</td>\n",
              "      <td>0.172277</td>\n",
              "      <td>0.128713</td>\n",
              "      <td>...</td>\n",
              "      <td>0.0</td>\n",
              "      <td>0.0</td>\n",
              "      <td>0.0</td>\n",
              "      <td>0.0</td>\n",
              "      <td>0.0</td>\n",
              "      <td>0.0</td>\n",
              "      <td>0.0</td>\n",
              "      <td>0.0</td>\n",
              "      <td>0.0</td>\n",
              "      <td>0.0</td>\n",
              "    </tr>\n",
              "    <tr>\n",
              "      <th>28244</th>\n",
              "      <td>0.067961</td>\n",
              "      <td>0.189320</td>\n",
              "      <td>0.300971</td>\n",
              "      <td>0.441748</td>\n",
              "      <td>0.524272</td>\n",
              "      <td>0.485437</td>\n",
              "      <td>0.485437</td>\n",
              "      <td>0.509709</td>\n",
              "      <td>0.519417</td>\n",
              "      <td>0.480583</td>\n",
              "      <td>...</td>\n",
              "      <td>0.0</td>\n",
              "      <td>0.0</td>\n",
              "      <td>0.0</td>\n",
              "      <td>0.0</td>\n",
              "      <td>0.0</td>\n",
              "      <td>0.0</td>\n",
              "      <td>0.0</td>\n",
              "      <td>0.0</td>\n",
              "      <td>0.0</td>\n",
              "      <td>0.0</td>\n",
              "    </tr>\n",
              "    <tr>\n",
              "      <th>54425</th>\n",
              "      <td>0.917603</td>\n",
              "      <td>0.921348</td>\n",
              "      <td>0.689139</td>\n",
              "      <td>0.400749</td>\n",
              "      <td>0.086142</td>\n",
              "      <td>0.000000</td>\n",
              "      <td>0.101124</td>\n",
              "      <td>0.187266</td>\n",
              "      <td>0.243446</td>\n",
              "      <td>0.250936</td>\n",
              "      <td>...</td>\n",
              "      <td>0.0</td>\n",
              "      <td>0.0</td>\n",
              "      <td>0.0</td>\n",
              "      <td>0.0</td>\n",
              "      <td>0.0</td>\n",
              "      <td>0.0</td>\n",
              "      <td>0.0</td>\n",
              "      <td>0.0</td>\n",
              "      <td>0.0</td>\n",
              "      <td>0.0</td>\n",
              "    </tr>\n",
              "    <tr>\n",
              "      <th>69736</th>\n",
              "      <td>1.000000</td>\n",
              "      <td>0.856734</td>\n",
              "      <td>0.306590</td>\n",
              "      <td>0.000000</td>\n",
              "      <td>0.265043</td>\n",
              "      <td>0.303725</td>\n",
              "      <td>0.312321</td>\n",
              "      <td>0.322350</td>\n",
              "      <td>0.326648</td>\n",
              "      <td>0.328080</td>\n",
              "      <td>...</td>\n",
              "      <td>0.0</td>\n",
              "      <td>0.0</td>\n",
              "      <td>0.0</td>\n",
              "      <td>0.0</td>\n",
              "      <td>0.0</td>\n",
              "      <td>0.0</td>\n",
              "      <td>0.0</td>\n",
              "      <td>0.0</td>\n",
              "      <td>0.0</td>\n",
              "      <td>0.0</td>\n",
              "    </tr>\n",
              "    <tr>\n",
              "      <th>29780</th>\n",
              "      <td>0.827051</td>\n",
              "      <td>0.706208</td>\n",
              "      <td>0.369180</td>\n",
              "      <td>0.286031</td>\n",
              "      <td>0.364745</td>\n",
              "      <td>0.342572</td>\n",
              "      <td>0.307095</td>\n",
              "      <td>0.312639</td>\n",
              "      <td>0.312639</td>\n",
              "      <td>0.308204</td>\n",
              "      <td>...</td>\n",
              "      <td>0.0</td>\n",
              "      <td>0.0</td>\n",
              "      <td>0.0</td>\n",
              "      <td>0.0</td>\n",
              "      <td>0.0</td>\n",
              "      <td>0.0</td>\n",
              "      <td>0.0</td>\n",
              "      <td>0.0</td>\n",
              "      <td>0.0</td>\n",
              "      <td>0.0</td>\n",
              "    </tr>\n",
              "  </tbody>\n",
              "</table>\n",
              "<p>10 rows × 188 columns</p>\n",
              "</div>"
            ],
            "text/plain": [
              "            0         1         2         3         4         5         6    \\\n",
              "49854  0.980328  0.865574  0.481967  0.167213  0.121311  0.108197  0.091803   \n",
              "70965  1.000000  0.488608  0.192405  0.121519  0.096203  0.050633  0.043038   \n",
              "15178  1.000000  0.714634  0.163415  0.063415  0.090244  0.014634  0.026829   \n",
              "84738  0.732006  0.655436  0.551302  0.437979  0.301685  0.168453  0.075038   \n",
              "52627  1.000000  0.640000  0.120000  0.072727  0.116364  0.101818  0.072727   \n",
              "55506  0.887129  0.930693  0.566337  0.336634  0.285149  0.302970  0.265347   \n",
              "28244  0.067961  0.189320  0.300971  0.441748  0.524272  0.485437  0.485437   \n",
              "54425  0.917603  0.921348  0.689139  0.400749  0.086142  0.000000  0.101124   \n",
              "69736  1.000000  0.856734  0.306590  0.000000  0.265043  0.303725  0.312321   \n",
              "29780  0.827051  0.706208  0.369180  0.286031  0.364745  0.342572  0.307095   \n",
              "\n",
              "            7         8         9    ...  178  179  180  181  182  183  184  \\\n",
              "49854  0.055738  0.062295  0.039344  ...  0.0  0.0  0.0  0.0  0.0  0.0  0.0   \n",
              "70965  0.053165  0.032911  0.025316  ...  0.0  0.0  0.0  0.0  0.0  0.0  0.0   \n",
              "15178  0.017073  0.017073  0.043902  ...  0.0  0.0  0.0  0.0  0.0  0.0  0.0   \n",
              "84738  0.024502  0.001531  0.033691  ...  0.0  0.0  0.0  0.0  0.0  0.0  0.0   \n",
              "52627  0.047273  0.061818  0.072727  ...  0.0  0.0  0.0  0.0  0.0  0.0  0.0   \n",
              "55506  0.225743  0.172277  0.128713  ...  0.0  0.0  0.0  0.0  0.0  0.0  0.0   \n",
              "28244  0.509709  0.519417  0.480583  ...  0.0  0.0  0.0  0.0  0.0  0.0  0.0   \n",
              "54425  0.187266  0.243446  0.250936  ...  0.0  0.0  0.0  0.0  0.0  0.0  0.0   \n",
              "69736  0.322350  0.326648  0.328080  ...  0.0  0.0  0.0  0.0  0.0  0.0  0.0   \n",
              "29780  0.312639  0.312639  0.308204  ...  0.0  0.0  0.0  0.0  0.0  0.0  0.0   \n",
              "\n",
              "       185  186  187  \n",
              "49854  0.0  0.0  0.0  \n",
              "70965  0.0  0.0  0.0  \n",
              "15178  0.0  0.0  0.0  \n",
              "84738  0.0  0.0  4.0  \n",
              "52627  0.0  0.0  0.0  \n",
              "55506  0.0  0.0  0.0  \n",
              "28244  0.0  0.0  0.0  \n",
              "54425  0.0  0.0  0.0  \n",
              "69736  0.0  0.0  0.0  \n",
              "29780  0.0  0.0  0.0  \n",
              "\n",
              "[10 rows x 188 columns]"
            ]
          },
          "execution_count": 4,
          "metadata": {},
          "output_type": "execute_result"
        }
      ],
      "source": [
        "train_df.sample(10)"
      ]
    },
    {
      "cell_type": "code",
      "execution_count": null,
      "id": "e284e1bc",
      "metadata": {
        "execution": {
          "iopub.execute_input": "2022-07-06T18:35:50.271557Z",
          "iopub.status.busy": "2022-07-06T18:35:50.270950Z",
          "iopub.status.idle": "2022-07-06T18:35:50.276465Z",
          "shell.execute_reply": "2022-07-06T18:35:50.275335Z"
        },
        "papermill": {
          "duration": 0.019526,
          "end_time": "2022-07-06T18:35:50.279032",
          "exception": false,
          "start_time": "2022-07-06T18:35:50.259506",
          "status": "completed"
        },
        "tags": [],
        "id": "e284e1bc"
      },
      "outputs": [],
      "source": [
        "#Classes:['N': 0, 'S': 1, 'V': 2, 'F': 3, 'Q': 4]\n",
        "Classes = {\n",
        "    0:'N', \n",
        "    1:'S', \n",
        "    2:'V', \n",
        "    3:'F',\n",
        "    4:'Q'\n",
        "}\n",
        "\n",
        "Classes_index = {\n",
        "    'N': 0, \n",
        "    'S': 1, \n",
        "    'V': 2, \n",
        "    'F': 3, \n",
        "    'Q': 4\n",
        "}"
      ]
    },
    {
      "cell_type": "code",
      "execution_count": null,
      "id": "f5345147",
      "metadata": {
        "execution": {
          "iopub.execute_input": "2022-07-06T18:35:50.300973Z",
          "iopub.status.busy": "2022-07-06T18:35:50.300638Z",
          "iopub.status.idle": "2022-07-06T18:35:50.330428Z",
          "shell.execute_reply": "2022-07-06T18:35:50.328940Z"
        },
        "papermill": {
          "duration": 0.044692,
          "end_time": "2022-07-06T18:35:50.333817",
          "exception": false,
          "start_time": "2022-07-06T18:35:50.289125",
          "status": "completed"
        },
        "tags": [],
        "id": "f5345147",
        "outputId": "96aa88a7-3a94-42b0-e694-b5758ca0dc2d"
      },
      "outputs": [
        {
          "name": "stdout",
          "output_type": "stream",
          "text": [
            "<class 'pandas.core.frame.DataFrame'>\n",
            "RangeIndex: 87554 entries, 0 to 87553\n",
            "Columns: 188 entries, 0 to 187\n",
            "dtypes: float64(188)\n",
            "memory usage: 125.6 MB\n"
          ]
        }
      ],
      "source": [
        "train_df.info()"
      ]
    },
    {
      "cell_type": "code",
      "execution_count": null,
      "id": "9495a25d",
      "metadata": {
        "execution": {
          "iopub.execute_input": "2022-07-06T18:35:50.359749Z",
          "iopub.status.busy": "2022-07-06T18:35:50.359116Z",
          "iopub.status.idle": "2022-07-06T18:35:50.382484Z",
          "shell.execute_reply": "2022-07-06T18:35:50.381440Z"
        },
        "papermill": {
          "duration": 0.039018,
          "end_time": "2022-07-06T18:35:50.385706",
          "exception": false,
          "start_time": "2022-07-06T18:35:50.346688",
          "status": "completed"
        },
        "tags": [],
        "id": "9495a25d",
        "outputId": "0aaffed1-0fc2-4073-e837-05e0b4a237cb"
      },
      "outputs": [
        {
          "name": "stdout",
          "output_type": "stream",
          "text": [
            "<class 'pandas.core.frame.DataFrame'>\n",
            "RangeIndex: 21892 entries, 0 to 21891\n",
            "Columns: 188 entries, 0 to 187\n",
            "dtypes: float64(188)\n",
            "memory usage: 31.4 MB\n"
          ]
        }
      ],
      "source": [
        "test_df.info()"
      ]
    },
    {
      "cell_type": "code",
      "execution_count": null,
      "id": "3f72e4a1",
      "metadata": {
        "execution": {
          "iopub.execute_input": "2022-07-06T18:35:50.410514Z",
          "iopub.status.busy": "2022-07-06T18:35:50.409499Z",
          "iopub.status.idle": "2022-07-06T18:35:50.418379Z",
          "shell.execute_reply": "2022-07-06T18:35:50.417363Z"
        },
        "papermill": {
          "duration": 0.023275,
          "end_time": "2022-07-06T18:35:50.420892",
          "exception": false,
          "start_time": "2022-07-06T18:35:50.397617",
          "status": "completed"
        },
        "tags": [],
        "id": "3f72e4a1"
      },
      "outputs": [],
      "source": [
        "feat_cols_name = [i for i in range(train_df.shape[1]-1)]\n",
        "\n",
        "train_df.columns = feat_cols_name+[\"label\"]\n",
        "test_df.columns = feat_cols_name+[\"label\"]"
      ]
    },
    {
      "cell_type": "code",
      "execution_count": null,
      "id": "956b5a6d",
      "metadata": {
        "execution": {
          "iopub.execute_input": "2022-07-06T18:35:50.446427Z",
          "iopub.status.busy": "2022-07-06T18:35:50.445149Z",
          "iopub.status.idle": "2022-07-06T18:35:50.504333Z",
          "shell.execute_reply": "2022-07-06T18:35:50.503109Z"
        },
        "papermill": {
          "duration": 0.075001,
          "end_time": "2022-07-06T18:35:50.507447",
          "exception": false,
          "start_time": "2022-07-06T18:35:50.432446",
          "status": "completed"
        },
        "tags": [],
        "id": "956b5a6d"
      },
      "outputs": [],
      "source": [
        "train_df[\"label\"] = train_df[\"label\"].astype(int)\n",
        "test_df[\"label\"] = test_df[\"label\"].astype(int)"
      ]
    },
    {
      "cell_type": "code",
      "execution_count": null,
      "id": "c41c60ca",
      "metadata": {
        "execution": {
          "iopub.execute_input": "2022-07-06T18:35:50.531301Z",
          "iopub.status.busy": "2022-07-06T18:35:50.530949Z",
          "iopub.status.idle": "2022-07-06T18:35:50.539669Z",
          "shell.execute_reply": "2022-07-06T18:35:50.538765Z"
        },
        "papermill": {
          "duration": 0.022325,
          "end_time": "2022-07-06T18:35:50.541843",
          "exception": false,
          "start_time": "2022-07-06T18:35:50.519518",
          "status": "completed"
        },
        "tags": [],
        "id": "c41c60ca"
      },
      "outputs": [],
      "source": [
        "train_df[\"label\"] = train_df[\"label\"].map(Classes)\n",
        "test_df[\"label\"] = test_df[\"label\"].map(Classes)"
      ]
    },
    {
      "cell_type": "code",
      "execution_count": null,
      "id": "99d73cee",
      "metadata": {
        "execution": {
          "iopub.execute_input": "2022-07-06T18:35:50.564186Z",
          "iopub.status.busy": "2022-07-06T18:35:50.563812Z",
          "iopub.status.idle": "2022-07-06T18:35:50.654946Z",
          "shell.execute_reply": "2022-07-06T18:35:50.653144Z"
        },
        "papermill": {
          "duration": 0.110562,
          "end_time": "2022-07-06T18:35:50.662645",
          "exception": false,
          "start_time": "2022-07-06T18:35:50.552083",
          "status": "completed"
        },
        "tags": [],
        "id": "99d73cee",
        "outputId": "f2036aa9-8274-41b0-bf1c-725d3d97e37f"
      },
      "outputs": [
        {
          "data": {
            "text/plain": [
              "Index([], dtype='object')"
            ]
          },
          "execution_count": 11,
          "metadata": {},
          "output_type": "execute_result"
        }
      ],
      "source": [
        "train_df.columns[train_df.isnull().sum() != 0]\n",
        "test_df.columns[train_df.isnull().sum() != 0]"
      ]
    },
    {
      "cell_type": "code",
      "execution_count": null,
      "id": "02136e2f",
      "metadata": {
        "execution": {
          "iopub.execute_input": "2022-07-06T18:35:50.705812Z",
          "iopub.status.busy": "2022-07-06T18:35:50.704516Z",
          "iopub.status.idle": "2022-07-06T18:35:51.857220Z",
          "shell.execute_reply": "2022-07-06T18:35:51.856069Z"
        },
        "papermill": {
          "duration": 1.179647,
          "end_time": "2022-07-06T18:35:51.859666",
          "exception": false,
          "start_time": "2022-07-06T18:35:50.680019",
          "status": "completed"
        },
        "tags": [],
        "id": "02136e2f",
        "outputId": "9a1b005a-a949-483b-b3ef-7b3d65e18dd3"
      },
      "outputs": [
        {
          "data": {
            "text/html": [
              "<div>\n",
              "<style scoped>\n",
              "    .dataframe tbody tr th:only-of-type {\n",
              "        vertical-align: middle;\n",
              "    }\n",
              "\n",
              "    .dataframe tbody tr th {\n",
              "        vertical-align: top;\n",
              "    }\n",
              "\n",
              "    .dataframe thead th {\n",
              "        text-align: right;\n",
              "    }\n",
              "</style>\n",
              "<table border=\"1\" class=\"dataframe\">\n",
              "  <thead>\n",
              "    <tr style=\"text-align: right;\">\n",
              "      <th></th>\n",
              "      <th>0</th>\n",
              "      <th>1</th>\n",
              "      <th>2</th>\n",
              "      <th>3</th>\n",
              "      <th>4</th>\n",
              "      <th>5</th>\n",
              "      <th>6</th>\n",
              "      <th>7</th>\n",
              "      <th>8</th>\n",
              "      <th>9</th>\n",
              "      <th>...</th>\n",
              "      <th>177</th>\n",
              "      <th>178</th>\n",
              "      <th>179</th>\n",
              "      <th>180</th>\n",
              "      <th>181</th>\n",
              "      <th>182</th>\n",
              "      <th>183</th>\n",
              "      <th>184</th>\n",
              "      <th>185</th>\n",
              "      <th>186</th>\n",
              "    </tr>\n",
              "  </thead>\n",
              "  <tbody>\n",
              "    <tr>\n",
              "      <th>count</th>\n",
              "      <td>87554.000000</td>\n",
              "      <td>87554.000000</td>\n",
              "      <td>87554.000000</td>\n",
              "      <td>87554.000000</td>\n",
              "      <td>87554.000000</td>\n",
              "      <td>87554.000000</td>\n",
              "      <td>87554.000000</td>\n",
              "      <td>87554.000000</td>\n",
              "      <td>87554.000000</td>\n",
              "      <td>87554.000000</td>\n",
              "      <td>...</td>\n",
              "      <td>87554.000000</td>\n",
              "      <td>87554.000000</td>\n",
              "      <td>87554.000000</td>\n",
              "      <td>87554.000000</td>\n",
              "      <td>87554.000000</td>\n",
              "      <td>87554.000000</td>\n",
              "      <td>87554.000000</td>\n",
              "      <td>87554.000000</td>\n",
              "      <td>87554.000000</td>\n",
              "      <td>87554.000000</td>\n",
              "    </tr>\n",
              "    <tr>\n",
              "      <th>mean</th>\n",
              "      <td>0.890360</td>\n",
              "      <td>0.758160</td>\n",
              "      <td>0.423972</td>\n",
              "      <td>0.219104</td>\n",
              "      <td>0.201127</td>\n",
              "      <td>0.210399</td>\n",
              "      <td>0.205808</td>\n",
              "      <td>0.201773</td>\n",
              "      <td>0.198691</td>\n",
              "      <td>0.196757</td>\n",
              "      <td>...</td>\n",
              "      <td>0.005479</td>\n",
              "      <td>0.005025</td>\n",
              "      <td>0.004628</td>\n",
              "      <td>0.004291</td>\n",
              "      <td>0.003945</td>\n",
              "      <td>0.003681</td>\n",
              "      <td>0.003471</td>\n",
              "      <td>0.003221</td>\n",
              "      <td>0.002945</td>\n",
              "      <td>0.002807</td>\n",
              "    </tr>\n",
              "    <tr>\n",
              "      <th>std</th>\n",
              "      <td>0.240909</td>\n",
              "      <td>0.221813</td>\n",
              "      <td>0.227305</td>\n",
              "      <td>0.206878</td>\n",
              "      <td>0.177058</td>\n",
              "      <td>0.171909</td>\n",
              "      <td>0.178481</td>\n",
              "      <td>0.177240</td>\n",
              "      <td>0.171778</td>\n",
              "      <td>0.168357</td>\n",
              "      <td>...</td>\n",
              "      <td>0.046693</td>\n",
              "      <td>0.044154</td>\n",
              "      <td>0.042089</td>\n",
              "      <td>0.040525</td>\n",
              "      <td>0.038651</td>\n",
              "      <td>0.037193</td>\n",
              "      <td>0.036255</td>\n",
              "      <td>0.034789</td>\n",
              "      <td>0.032865</td>\n",
              "      <td>0.031924</td>\n",
              "    </tr>\n",
              "    <tr>\n",
              "      <th>min</th>\n",
              "      <td>0.000000</td>\n",
              "      <td>0.000000</td>\n",
              "      <td>0.000000</td>\n",
              "      <td>0.000000</td>\n",
              "      <td>0.000000</td>\n",
              "      <td>0.000000</td>\n",
              "      <td>0.000000</td>\n",
              "      <td>0.000000</td>\n",
              "      <td>0.000000</td>\n",
              "      <td>0.000000</td>\n",
              "      <td>...</td>\n",
              "      <td>0.000000</td>\n",
              "      <td>0.000000</td>\n",
              "      <td>0.000000</td>\n",
              "      <td>0.000000</td>\n",
              "      <td>0.000000</td>\n",
              "      <td>0.000000</td>\n",
              "      <td>0.000000</td>\n",
              "      <td>0.000000</td>\n",
              "      <td>0.000000</td>\n",
              "      <td>0.000000</td>\n",
              "    </tr>\n",
              "    <tr>\n",
              "      <th>25%</th>\n",
              "      <td>0.921922</td>\n",
              "      <td>0.682486</td>\n",
              "      <td>0.250969</td>\n",
              "      <td>0.048458</td>\n",
              "      <td>0.082329</td>\n",
              "      <td>0.088416</td>\n",
              "      <td>0.073333</td>\n",
              "      <td>0.066116</td>\n",
              "      <td>0.065000</td>\n",
              "      <td>0.068639</td>\n",
              "      <td>...</td>\n",
              "      <td>0.000000</td>\n",
              "      <td>0.000000</td>\n",
              "      <td>0.000000</td>\n",
              "      <td>0.000000</td>\n",
              "      <td>0.000000</td>\n",
              "      <td>0.000000</td>\n",
              "      <td>0.000000</td>\n",
              "      <td>0.000000</td>\n",
              "      <td>0.000000</td>\n",
              "      <td>0.000000</td>\n",
              "    </tr>\n",
              "    <tr>\n",
              "      <th>50%</th>\n",
              "      <td>0.991342</td>\n",
              "      <td>0.826013</td>\n",
              "      <td>0.429472</td>\n",
              "      <td>0.166000</td>\n",
              "      <td>0.147878</td>\n",
              "      <td>0.158798</td>\n",
              "      <td>0.145324</td>\n",
              "      <td>0.144424</td>\n",
              "      <td>0.150000</td>\n",
              "      <td>0.148734</td>\n",
              "      <td>...</td>\n",
              "      <td>0.000000</td>\n",
              "      <td>0.000000</td>\n",
              "      <td>0.000000</td>\n",
              "      <td>0.000000</td>\n",
              "      <td>0.000000</td>\n",
              "      <td>0.000000</td>\n",
              "      <td>0.000000</td>\n",
              "      <td>0.000000</td>\n",
              "      <td>0.000000</td>\n",
              "      <td>0.000000</td>\n",
              "    </tr>\n",
              "    <tr>\n",
              "      <th>75%</th>\n",
              "      <td>1.000000</td>\n",
              "      <td>0.910506</td>\n",
              "      <td>0.578767</td>\n",
              "      <td>0.341727</td>\n",
              "      <td>0.258993</td>\n",
              "      <td>0.287628</td>\n",
              "      <td>0.298237</td>\n",
              "      <td>0.295391</td>\n",
              "      <td>0.290832</td>\n",
              "      <td>0.283636</td>\n",
              "      <td>...</td>\n",
              "      <td>0.000000</td>\n",
              "      <td>0.000000</td>\n",
              "      <td>0.000000</td>\n",
              "      <td>0.000000</td>\n",
              "      <td>0.000000</td>\n",
              "      <td>0.000000</td>\n",
              "      <td>0.000000</td>\n",
              "      <td>0.000000</td>\n",
              "      <td>0.000000</td>\n",
              "      <td>0.000000</td>\n",
              "    </tr>\n",
              "    <tr>\n",
              "      <th>max</th>\n",
              "      <td>1.000000</td>\n",
              "      <td>1.000000</td>\n",
              "      <td>1.000000</td>\n",
              "      <td>1.000000</td>\n",
              "      <td>1.000000</td>\n",
              "      <td>1.000000</td>\n",
              "      <td>1.000000</td>\n",
              "      <td>1.000000</td>\n",
              "      <td>1.000000</td>\n",
              "      <td>1.000000</td>\n",
              "      <td>...</td>\n",
              "      <td>1.000000</td>\n",
              "      <td>1.000000</td>\n",
              "      <td>1.000000</td>\n",
              "      <td>1.000000</td>\n",
              "      <td>1.000000</td>\n",
              "      <td>1.000000</td>\n",
              "      <td>1.000000</td>\n",
              "      <td>1.000000</td>\n",
              "      <td>1.000000</td>\n",
              "      <td>1.000000</td>\n",
              "    </tr>\n",
              "  </tbody>\n",
              "</table>\n",
              "<p>8 rows × 187 columns</p>\n",
              "</div>"
            ],
            "text/plain": [
              "                0             1             2             3             4    \\\n",
              "count  87554.000000  87554.000000  87554.000000  87554.000000  87554.000000   \n",
              "mean       0.890360      0.758160      0.423972      0.219104      0.201127   \n",
              "std        0.240909      0.221813      0.227305      0.206878      0.177058   \n",
              "min        0.000000      0.000000      0.000000      0.000000      0.000000   \n",
              "25%        0.921922      0.682486      0.250969      0.048458      0.082329   \n",
              "50%        0.991342      0.826013      0.429472      0.166000      0.147878   \n",
              "75%        1.000000      0.910506      0.578767      0.341727      0.258993   \n",
              "max        1.000000      1.000000      1.000000      1.000000      1.000000   \n",
              "\n",
              "                5             6             7             8             9    \\\n",
              "count  87554.000000  87554.000000  87554.000000  87554.000000  87554.000000   \n",
              "mean       0.210399      0.205808      0.201773      0.198691      0.196757   \n",
              "std        0.171909      0.178481      0.177240      0.171778      0.168357   \n",
              "min        0.000000      0.000000      0.000000      0.000000      0.000000   \n",
              "25%        0.088416      0.073333      0.066116      0.065000      0.068639   \n",
              "50%        0.158798      0.145324      0.144424      0.150000      0.148734   \n",
              "75%        0.287628      0.298237      0.295391      0.290832      0.283636   \n",
              "max        1.000000      1.000000      1.000000      1.000000      1.000000   \n",
              "\n",
              "       ...           177           178           179           180  \\\n",
              "count  ...  87554.000000  87554.000000  87554.000000  87554.000000   \n",
              "mean   ...      0.005479      0.005025      0.004628      0.004291   \n",
              "std    ...      0.046693      0.044154      0.042089      0.040525   \n",
              "min    ...      0.000000      0.000000      0.000000      0.000000   \n",
              "25%    ...      0.000000      0.000000      0.000000      0.000000   \n",
              "50%    ...      0.000000      0.000000      0.000000      0.000000   \n",
              "75%    ...      0.000000      0.000000      0.000000      0.000000   \n",
              "max    ...      1.000000      1.000000      1.000000      1.000000   \n",
              "\n",
              "                181           182           183           184           185  \\\n",
              "count  87554.000000  87554.000000  87554.000000  87554.000000  87554.000000   \n",
              "mean       0.003945      0.003681      0.003471      0.003221      0.002945   \n",
              "std        0.038651      0.037193      0.036255      0.034789      0.032865   \n",
              "min        0.000000      0.000000      0.000000      0.000000      0.000000   \n",
              "25%        0.000000      0.000000      0.000000      0.000000      0.000000   \n",
              "50%        0.000000      0.000000      0.000000      0.000000      0.000000   \n",
              "75%        0.000000      0.000000      0.000000      0.000000      0.000000   \n",
              "max        1.000000      1.000000      1.000000      1.000000      1.000000   \n",
              "\n",
              "                186  \n",
              "count  87554.000000  \n",
              "mean       0.002807  \n",
              "std        0.031924  \n",
              "min        0.000000  \n",
              "25%        0.000000  \n",
              "50%        0.000000  \n",
              "75%        0.000000  \n",
              "max        1.000000  \n",
              "\n",
              "[8 rows x 187 columns]"
            ]
          },
          "execution_count": 12,
          "metadata": {},
          "output_type": "execute_result"
        }
      ],
      "source": [
        "train_df.describe()"
      ]
    },
    {
      "cell_type": "code",
      "execution_count": null,
      "id": "f6e65417",
      "metadata": {
        "execution": {
          "iopub.execute_input": "2022-07-06T18:35:51.883302Z",
          "iopub.status.busy": "2022-07-06T18:35:51.882247Z",
          "iopub.status.idle": "2022-07-06T18:35:53.180569Z",
          "shell.execute_reply": "2022-07-06T18:35:53.179524Z"
        },
        "papermill": {
          "duration": 1.314151,
          "end_time": "2022-07-06T18:35:53.184864",
          "exception": false,
          "start_time": "2022-07-06T18:35:51.870713",
          "status": "completed"
        },
        "tags": [],
        "id": "f6e65417",
        "outputId": "01335391-2353-4745-c4a0-22088bb95d07"
      },
      "outputs": [
        {
          "data": {
            "image/png": "[encoded data removed]",
            "text/plain": [
              "<Figure size 1440x2160 with 6 Axes>"
            ]
          },
          "metadata": {
            "needs_background": "light"
          },
          "output_type": "display_data"
        }
      ],
      "source": [
        "fig, axes= plt.subplots(math.ceil(len(Classes_index.keys())/2), 2, figsize=(20,30), constrained_layout=True)\n",
        "X = np.arange(0, len(feat_cols_name))*8/1000\n",
        "\n",
        "i = 0\n",
        "for key, value in Classes_index.items():\n",
        "    ax = axes[int(i/2), i%2]\n",
        "    ax.plot(X, train_df[train_df[\"label\"] == key][feat_cols_name].sample(1).values.reshape(-1,1))\n",
        "    ax.legend()\n",
        "    ax.set(title=\"1-beat ECG for Cat {}\".format(key))\n",
        "    ax.set(ylabel=\"Amplitude\")\n",
        "    ax.set(xlabel=\"Time (ms)\")\n",
        "    i+=1"
      ]
    },
    {
      "cell_type": "code",
      "execution_count": null,
      "id": "4ecf9b23",
      "metadata": {
        "execution": {
          "iopub.execute_input": "2022-07-06T18:35:53.213881Z",
          "iopub.status.busy": "2022-07-06T18:35:53.213496Z",
          "iopub.status.idle": "2022-07-06T18:35:53.225830Z",
          "shell.execute_reply": "2022-07-06T18:35:53.224810Z"
        },
        "papermill": {
          "duration": 0.028858,
          "end_time": "2022-07-06T18:35:53.227795",
          "exception": false,
          "start_time": "2022-07-06T18:35:53.198937",
          "status": "completed"
        },
        "tags": [],
        "id": "4ecf9b23"
      },
      "outputs": [],
      "source": [
        "def stretch(x):\n",
        "    l = int(len(feat_cols_name) * (1 + (random.random()-0.5)/3))\n",
        "    y = resample(x, l)\n",
        "    if l < len(feat_cols_name):\n",
        "        y_ = np.zeros(shape=(len(feat_cols_name), ))\n",
        "        y_[:l] = y\n",
        "    else:\n",
        "        y_ = y[:len(feat_cols_name)]\n",
        "    return y_\n",
        "\n",
        "def amplify(x):\n",
        "    alpha = (random.random()-0.5)\n",
        "    factor = -alpha*x + (1+alpha)\n",
        "    return x*factor\n",
        "\n",
        "def gaussian_noise(signal):\n",
        "    noise=np.random.normal(0,0.01, len(feat_cols_name))\n",
        "    return (signal+noise)\n",
        "\n",
        "def augment(x):\n",
        "    result = np.zeros(shape= (4, len(feat_cols_name)))\n",
        "    for i in range(3):\n",
        "        if random.random() < 0.25:\n",
        "            new_X = gaussian_noise(x)\n",
        "        elif random.random() < 0.50:\n",
        "            new_X = stretch(x)           \n",
        "        elif random.random() < 0.75:\n",
        "            new_X = amplify(x)\n",
        "        else:\n",
        "            new_X = gaussian_noise(x)\n",
        "            new_X = stretch(new_X)\n",
        "            new_X = amplify(new_X)\n",
        "        result[i, :] = new_X\n",
        "    return result"
      ]
    },
    {
      "cell_type": "code",
      "execution_count": null,
      "id": "12eab974",
      "metadata": {
        "execution": {
          "iopub.execute_input": "2022-07-06T18:35:53.256941Z",
          "iopub.status.busy": "2022-07-06T18:35:53.255906Z",
          "iopub.status.idle": "2022-07-06T18:35:53.270058Z",
          "shell.execute_reply": "2022-07-06T18:35:53.269151Z"
        },
        "papermill": {
          "duration": 0.030857,
          "end_time": "2022-07-06T18:35:53.272223",
          "exception": false,
          "start_time": "2022-07-06T18:35:53.241366",
          "status": "completed"
        },
        "tags": [],
        "id": "12eab974"
      },
      "outputs": [],
      "source": [
        "train_df[\"label\"] = train_df[\"label\"].map(Classes_index)\n",
        "test_df[\"label\"] = test_df[\"label\"].map(Classes_index)"
      ]
    },
    {
      "cell_type": "code",
      "execution_count": null,
      "id": "9386e1b6",
      "metadata": {
        "execution": {
          "iopub.execute_input": "2022-07-06T18:35:53.300927Z",
          "iopub.status.busy": "2022-07-06T18:35:53.300032Z",
          "iopub.status.idle": "2022-07-06T18:35:53.355356Z",
          "shell.execute_reply": "2022-07-06T18:35:53.354233Z"
        },
        "papermill": {
          "duration": 0.072262,
          "end_time": "2022-07-06T18:35:53.357938",
          "exception": false,
          "start_time": "2022-07-06T18:35:53.285676",
          "status": "completed"
        },
        "tags": [],
        "id": "9386e1b6"
      },
      "outputs": [],
      "source": [
        "X_train = train_df[feat_cols_name].values\n",
        "y_train = train_df[\"label\"].values\n",
        "\n",
        "X_test = test_df[feat_cols_name].values\n",
        "y_test = test_df[\"label\"].values"
      ]
    },
    {
      "cell_type": "code",
      "execution_count": null,
      "id": "7619c737",
      "metadata": {
        "execution": {
          "iopub.execute_input": "2022-07-06T18:35:53.385491Z",
          "iopub.status.busy": "2022-07-06T18:35:53.384913Z",
          "iopub.status.idle": "2022-07-06T18:35:53.573870Z",
          "shell.execute_reply": "2022-07-06T18:35:53.572877Z"
        },
        "papermill": {
          "duration": 0.205261,
          "end_time": "2022-07-06T18:35:53.576066",
          "exception": false,
          "start_time": "2022-07-06T18:35:53.370805",
          "status": "completed"
        },
        "tags": [],
        "id": "7619c737",
        "outputId": "8ed9f310-eca8-4f99-d70c-785cead0908e"
      },
      "outputs": [
        {
          "data": {
            "image/png": "[encoded data removed]",
            "text/plain": [
              "<Figure size 432x288 with 1 Axes>"
            ]
          },
          "metadata": {
            "needs_background": "light"
          },
          "output_type": "display_data"
        }
      ],
      "source": [
        "plt.plot(X_train[0])\n",
        "plt.plot(gaussian_noise(X_train[0]))\n",
        "plt.plot(amplify(X_train[0]))\n",
        "plt.plot(stretch(X_train[0]))\n",
        "plt.show()"
      ]
    },
    {
      "cell_type": "code",
      "execution_count": null,
      "id": "2e71fa73",
      "metadata": {
        "execution": {
          "iopub.execute_input": "2022-07-06T18:35:53.604801Z",
          "iopub.status.busy": "2022-07-06T18:35:53.604467Z",
          "iopub.status.idle": "2022-07-06T18:35:54.013105Z",
          "shell.execute_reply": "2022-07-06T18:35:54.012052Z"
        },
        "papermill": {
          "duration": 0.425892,
          "end_time": "2022-07-06T18:35:54.015550",
          "exception": false,
          "start_time": "2022-07-06T18:35:53.589658",
          "status": "completed"
        },
        "tags": [],
        "id": "2e71fa73",
        "outputId": "d592a135-3fcb-41f0-c588-04519049ca68"
      },
      "outputs": [
        {
          "data": {
            "text/plain": [
              "((78798, 187), (78798,), (8756, 187), (8756,))"
            ]
          },
          "execution_count": 18,
          "metadata": {},
          "output_type": "execute_result"
        }
      ],
      "source": [
        "from sklearn.model_selection import train_test_split\n",
        "\n",
        "X_train, X_val, y_train, y_val = train_test_split(X_train, y_train, test_size=0.1, random_state=2, stratify=y_train)\n",
        "X_train.shape, y_train.shape, X_val.shape, y_val.shape"
      ]
    },
    {
      "cell_type": "code",
      "execution_count": null,
      "id": "2e06bf65",
      "metadata": {
        "execution": {
          "iopub.execute_input": "2022-07-06T18:35:54.046193Z",
          "iopub.status.busy": "2022-07-06T18:35:54.044440Z",
          "iopub.status.idle": "2022-07-06T18:36:08.427370Z",
          "shell.execute_reply": "2022-07-06T18:36:08.426302Z"
        },
        "papermill": {
          "duration": 14.40038,
          "end_time": "2022-07-06T18:36:08.429845",
          "exception": false,
          "start_time": "2022-07-06T18:35:54.029465",
          "status": "completed"
        },
        "tags": [],
        "id": "2e06bf65"
      },
      "outputs": [],
      "source": [
        "tmp_X_train = X_train.copy()\n",
        "tmp_y_train = y_train.copy()\n",
        "\n",
        "X_train = []\n",
        "y_train = []\n",
        "for i in range(0, len(tmp_y_train)):\n",
        "    augment_X = augment(tmp_X_train[i])\n",
        "    augment_y = np.ones(shape=(augment_X.shape[0],), dtype=int)*tmp_y_train[i]\n",
        "\n",
        "    X_train.extend(augment_X)\n",
        "    y_train.extend(augment_y)\n",
        "    \n",
        "X_train = np.array(X_train)\n",
        "y_train = np.array(y_train)"
      ]
    },
    {
      "cell_type": "code",
      "execution_count": null,
      "id": "ed398092",
      "metadata": {
        "execution": {
          "iopub.execute_input": "2022-07-06T18:36:08.459786Z",
          "iopub.status.busy": "2022-07-06T18:36:08.459231Z",
          "iopub.status.idle": "2022-07-06T18:36:08.465980Z",
          "shell.execute_reply": "2022-07-06T18:36:08.464968Z"
        },
        "papermill": {
          "duration": 0.023983,
          "end_time": "2022-07-06T18:36:08.468234",
          "exception": false,
          "start_time": "2022-07-06T18:36:08.444251",
          "status": "completed"
        },
        "tags": [],
        "id": "ed398092",
        "outputId": "187a5f5e-5b25-4035-da96-993e787e522b"
      },
      "outputs": [
        {
          "data": {
            "text/plain": [
              "((315192, 187), (315192,))"
            ]
          },
          "execution_count": 20,
          "metadata": {},
          "output_type": "execute_result"
        }
      ],
      "source": [
        "X_train.shape, y_train.shape"
      ]
    },
    {
      "cell_type": "code",
      "execution_count": null,
      "id": "d6d70d32",
      "metadata": {
        "execution": {
          "iopub.execute_input": "2022-07-06T18:36:08.497922Z",
          "iopub.status.busy": "2022-07-06T18:36:08.497570Z",
          "iopub.status.idle": "2022-07-06T18:36:08.504502Z",
          "shell.execute_reply": "2022-07-06T18:36:08.503374Z"
        },
        "papermill": {
          "duration": 0.024548,
          "end_time": "2022-07-06T18:36:08.506630",
          "exception": false,
          "start_time": "2022-07-06T18:36:08.482082",
          "status": "completed"
        },
        "tags": [],
        "id": "d6d70d32"
      },
      "outputs": [],
      "source": [
        "X_train = X_train.reshape((-1, len(feat_cols_name), 1))\n",
        "X_val = X_val.reshape((-1, len(feat_cols_name), 1))\n",
        "X_test = X_test.reshape((-1, len(feat_cols_name), 1))\n",
        "\n",
        "y_train = y_train.reshape((-1, 1))\n",
        "y_val = y_val.reshape((-1, 1))\n",
        "y_test = y_test.reshape((-1, 1))"
      ]
    },
    {
      "cell_type": "code",
      "execution_count": null,
      "id": "df7cee26",
      "metadata": {
        "execution": {
          "iopub.execute_input": "2022-07-06T18:36:08.536492Z",
          "iopub.status.busy": "2022-07-06T18:36:08.535768Z",
          "iopub.status.idle": "2022-07-06T18:36:08.543126Z",
          "shell.execute_reply": "2022-07-06T18:36:08.542114Z"
        },
        "papermill": {
          "duration": 0.024672,
          "end_time": "2022-07-06T18:36:08.545078",
          "exception": false,
          "start_time": "2022-07-06T18:36:08.520406",
          "status": "completed"
        },
        "tags": [],
        "id": "df7cee26",
        "outputId": "a34646c0-1d4d-4fb1-d082-53ac7bc78c3c"
      },
      "outputs": [
        {
          "data": {
            "text/plain": [
              "((187, 1), 5)"
            ]
          },
          "execution_count": 22,
          "metadata": {},
          "output_type": "execute_result"
        }
      ],
      "source": [
        "input_shape = X_train.shape[1:]\n",
        "nb_classes = len(Classes_index.keys())\n",
        "input_shape, nb_classes"
      ]
    }
  ],
  "metadata": {
    "kernelspec": {
      "display_name": "Python 3",
      "language": "python",
      "name": "python3"
    },
    "language_info": {
      "codemirror_mode": {
        "name": "ipython",
        "version": 3
      },
      "file_extension": ".py",
      "mimetype": "text/x-python",
      "name": "python",
      "nbconvert_exporter": "python",
      "pygments_lexer": "ipython3",
      "version": "3.7.12"
    },
    "papermill": {
      "default_parameters": {},
      "duration": 9356.538452,
      "end_time": "2022-07-06T21:11:26.997377",
      "environment_variables": {},
      "exception": null,
      "input_path": "__notebook__.ipynb",
      "output_path": "__notebook__.ipynb",
      "parameters": {},
      "start_time": "2022-07-06T18:35:30.458925",
      "version": "2.3.4"
    },
    "colab": {
      "name": "update-2",
      "provenance": [],
      "collapsed_sections": []
    }
  },
  "nbformat": 4,
  "nbformat_minor": 5
}